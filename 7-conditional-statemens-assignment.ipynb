{
 "cells": [
  {
   "cell_type": "markdown",
   "id": "9bc849fe",
   "metadata": {},
   "source": [
    "1"
   ]
  },
  {
   "cell_type": "code",
   "execution_count": 2,
   "id": "03b0d814",
   "metadata": {},
   "outputs": [
    {
     "name": "stdout",
     "output_type": "stream",
     "text": [
      "Thank you\n"
     ]
    }
   ],
   "source": [
    "num = int(input(\"Enter a number between 10 and 20 (inclusive): \"))\n",
    "if num >= 10 and num <= 20:\n",
    "    print(\"Thank you\")\n",
    "else:\n",
    "    print(\"Incorrect answer\")\n"
   ]
  },
  {
   "cell_type": "markdown",
   "id": "9c4b9950",
   "metadata": {},
   "source": [
    "2"
   ]
  },
  {
   "cell_type": "code",
   "execution_count": 4,
   "id": "b664bf00",
   "metadata": {},
   "outputs": [
    {
     "name": "stdout",
     "output_type": "stream",
     "text": [
      "y is sometimes a vowel and sometimes a consonant.\n"
     ]
    }
   ],
   "source": [
    "vowels = ['a', 'e', 'i', 'o', 'u']\n",
    "\n",
    "\n",
    "letter = str(input('Enter a letter: '))\n",
    "\n",
    "\n",
    "if letter in vowels:\n",
    "    print(\"letter is a vowel.\")\n",
    "elif letter == \"y\":\n",
    "    print(\"y is sometimes a vowel and sometimes a consonant.\")\n",
    "else:\n",
    "    print(\"the letter is a consonant.\")"
   ]
  },
  {
   "cell_type": "code",
   "execution_count": null,
   "id": "14796bf8",
   "metadata": {},
   "outputs": [],
   "source": [
    "    "
   ]
  }
 ],
 "metadata": {
  "kernelspec": {
   "display_name": "Python 3 (ipykernel)",
   "language": "python",
   "name": "python3"
  },
  "language_info": {
   "codemirror_mode": {
    "name": "ipython",
    "version": 3
   },
   "file_extension": ".py",
   "mimetype": "text/x-python",
   "name": "python",
   "nbconvert_exporter": "python",
   "pygments_lexer": "ipython3",
   "version": "3.10.4"
  }
 },
 "nbformat": 4,
 "nbformat_minor": 5
}
