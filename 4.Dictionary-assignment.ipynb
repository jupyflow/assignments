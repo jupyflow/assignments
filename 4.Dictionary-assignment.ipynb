{
 "cells": [
  {
   "cell_type": "markdown",
   "id": "f71d1178",
   "metadata": {},
   "source": [
    "1- Create a dictionary with 7 days. Ask the user to choose 2 different days by listing the (e.g. \"12\" for Monday and Tuesday). Delete the user-selected days from the dictionary and print the remaining 5 days on the screen.\n"
   ]
  },
  {
   "cell_type": "code",
   "execution_count": 137,
   "id": "87e408ce",
   "metadata": {},
   "outputs": [],
   "source": [
    "the_dictionary = {'0': 'Sunday', '1': 'Monday', '2': 'Tuesday', '3': 'Wednesday', '4': 'Thursday', '5': 'Friday', '6': 'Saturday', }"
   ]
  },
  {
   "cell_type": "code",
   "execution_count": 138,
   "id": "14dea7da",
   "metadata": {},
   "outputs": [
    {
     "name": "stdout",
     "output_type": "stream",
     "text": [
      "{'0': 'Sunday', '1': 'Monday', '2': 'Tuesday', '3': 'Wednesday', '4': 'Thursday', '5': 'Friday', '6': 'Saturday'}\n"
     ]
    }
   ],
   "source": [
    "print(the_dictionary)"
   ]
  },
  {
   "cell_type": "code",
   "execution_count": 139,
   "id": "88e1720c",
   "metadata": {},
   "outputs": [
    {
     "name": "stdout",
     "output_type": "stream",
     "text": [
      "dict_values(['Sunday', 'Wednesday', 'Thursday', 'Friday', 'Saturday'])\n"
     ]
    }
   ],
   "source": [
    "choose_days= input('Choose 2 different days (for example (1,2)) : ')\n",
    "day1, day2 = choose_days.split(',')\n",
    "popped_days = the_dictionary.pop(day1), the_dictionary.pop(day2)\n",
    "print(the_dictionary.values())\n"
   ]
  },
  {
   "cell_type": "markdown",
   "id": "4e7ba192",
   "metadata": {},
   "source": [
    "2- Create a dictionary with the following personnel. Use names as keys.\n",
    "\n",
    "3- Add child information to Michael and Linda. Michael has two children (Karen (age : 12, female) and Greg (age : 7, male) and Linda has one child (Susan (age: 6, female))\n",
    "\n",
    "4- Print the names of Michael's children in a list."
   ]
  },
  {
   "cell_type": "code",
   "execution_count": 140,
   "id": "56ef2327",
   "metadata": {},
   "outputs": [
    {
     "data": {
      "text/plain": [
       "['Karen age: 12, female', 'Greg age: 7, male']"
      ]
     },
     "execution_count": 140,
     "metadata": {},
     "output_type": "execute_result"
    }
   ],
   "source": [
    "#missing question? following personnel names?\n",
    "\n",
    "namelist = {'Michael': ['Karen age: 12, female', 'Greg age: 7, male'], 'Linda': ['Susan age: 6, female']}\n",
    "namelist['Michael']"
   ]
  },
  {
   "cell_type": "markdown",
   "id": "f71cd832",
   "metadata": {},
   "source": [
    "5- We are providing you with a function called fillable to help you access a data dictionary and check for in-stock items. It takes three parameters as shown:\n",
    "def fillable(f_stock, f_merch, f_n):\n",
    "\n",
    "    A) f_stock takes the dictionary representing all the merchandise you have in stock.\n",
    "    B) f_merch takes the merchandise your customer wants to buy.\n",
    "    C) f_n takes the number of units of f_merch they would like to buy.\n",
    "Your job is to start by defining the dictionary called stock with the key value pairs of your merchandise. Use the following to populate your stock dictionary (merchandise, quantity):\n",
    "\n",
    "   earbuds, 20\n",
    "\n",
    "   microphones, 72\n",
    "\n",
    "   speakers, 14\n",
    "\n",
    "   headsets, 59\n",
    "\n",
    "   webcams, 37\n",
    "\n",
    "def fillable(f_stock, f_merch, f_n):\n",
    "    if f_stock[f_merch] >= f_n:\n",
    "    return True\n",
    "  else:\n",
    "    return False\n",
    "\n",
    "\n",
    "6- Next define a merch input string and give it a value of earbuds. Define a variable n and give it a value of 15."
   ]
  },
  {
   "cell_type": "code",
   "execution_count": 142,
   "id": "9d415799",
   "metadata": {},
   "outputs": [
    {
     "name": "stdout",
     "output_type": "stream",
     "text": [
      "Sorry, we are out of stock. Your order cannot be filled for 30 earbuds.\n"
     ]
    }
   ],
   "source": [
    "stock = {'earbuds': 20, 'microphones': 72, 'speakers': 14, 'headsets': 59, 'webcams': 37}\n",
    "\n",
    "def fillable(f_stock, f_merch, f_n):\n",
    "    if f_stock[f_merch] >= f_n:\n",
    "        return True\n",
    "    else:\n",
    "        return False\n",
    "\n",
    "checkitem = input('Enter item to check: ')\n",
    "checknum = int(input('Enter number of items: '))\n",
    "avail_stock = fillable(stock, checkitem, checknum)\n",
    "if avail_stock == True:\n",
    "    print('You can fill your order.')\n",
    "else:\n",
    "    print('Sorry, we are out of stock. Your order cannot be filled for {} {}.'.format(checknum, checkitem))"
   ]
  },
  {
   "cell_type": "code",
   "execution_count": null,
   "id": "d15ba1b4",
   "metadata": {},
   "outputs": [],
   "source": []
  }
 ],
 "metadata": {
  "kernelspec": {
   "display_name": "Python 3 (ipykernel)",
   "language": "python",
   "name": "python3"
  },
  "language_info": {
   "codemirror_mode": {
    "name": "ipython",
    "version": 3
   },
   "file_extension": ".py",
   "mimetype": "text/x-python",
   "name": "python",
   "nbconvert_exporter": "python",
   "pygments_lexer": "ipython3",
   "version": "3.10.4"
  }
 },
 "nbformat": 4,
 "nbformat_minor": 5
}
