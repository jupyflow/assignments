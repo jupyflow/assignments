{
 "cells": [
  {
   "cell_type": "markdown",
   "metadata": {},
   "source": [
    "1."
   ]
  },
  {
   "cell_type": "code",
   "execution_count": 51,
   "metadata": {},
   "outputs": [
    {
     "name": "stdout",
     "output_type": "stream",
     "text": [
      "size:  [166, 176, 130, 187, 127, 132, 128, 177, 152, 163]\n",
      "rooms:  [5, 4, 5, 2, 2, 3, 4, 3, 3, 4]\n",
      "price:  [628457, 506601, 692374, 240345, 566213, 248244, 682854, 671773, 475643, 218117]\n",
      "list:  [   166    176    130    187    127    132    128    177    152    163\n",
      "      5      4      5      2      2      3      4      3      3      4\n",
      " 628457 506601 692374 240345 566213 248244 682854 671773 475643 218117]\n"
     ]
    }
   ],
   "source": [
    "import numpy as np\n",
    "import random\n",
    "\n",
    "#creating random list method 1\n",
    "size= []\n",
    "for i in range(1, 11):\n",
    "    x = np.random.randint(120, 200)\n",
    "    size.append(x)\n",
    "print('size: ', size)\n",
    "\n",
    "rooms = []\n",
    "for i in range(1, 11):\n",
    "    x = np.random.randint(2, 6)\n",
    "    rooms.append(x)\n",
    "print('rooms: ', rooms)\n",
    "\n",
    "price = []\n",
    "for i in range(1, 11):\n",
    "    x = np.random.randint(200000, 800000)\n",
    "    price.append(x)\n",
    "print('price: ', price)\n",
    "\n",
    "# #creating random list method 2\n",
    "# randomsize = random.sample(range(100, 150), 10)\n",
    "# print(randomsize)\n",
    "\n",
    "# randomrooms = random.sample(range(1, 11), 10)\n",
    "# print(randomrooms)\n",
    "\n",
    "\n",
    "# randomprices = random.sample(range(200000, 800000), 10)\n",
    "# print(randomprices)\n",
    "\n",
    "l = size + rooms + price\n",
    "l = np.array(l)\n",
    "print('list: ', l)\n",
    "\n",
    "\n",
    "\n",
    "\n",
    "\n"
   ]
  },
  {
   "cell_type": "markdown",
   "metadata": {},
   "source": [
    "2. & 3."
   ]
  },
  {
   "cell_type": "code",
   "execution_count": 84,
   "metadata": {},
   "outputs": [
    {
     "name": "stdout",
     "output_type": "stream",
     "text": [
      "(10, 3)\n",
      "| size | rooms | price |\n",
      "[[   169      4 415459]\n",
      " [   126      2 716520]\n",
      " [   177      3 630795]\n",
      " [   171      2 439207]\n",
      " [   185      3 441776]\n",
      " [   127      4 611276]\n",
      " [   182      3 415176]\n",
      " [   125      4 678025]\n",
      " [   156      2 523271]\n",
      " [   192      2 324186]]\n"
     ]
    }
   ],
   "source": [
    "l = np.reshape(l, (3, 10))\n",
    "l = l.transpose()\n",
    "print(l.shape)\n",
    "print('| size | rooms | price |')\n",
    "print(l)\n"
   ]
  },
  {
   "cell_type": "markdown",
   "metadata": {},
   "source": [
    "4."
   ]
  },
  {
   "cell_type": "code",
   "execution_count": 18,
   "metadata": {},
   "outputs": [
    {
     "name": "stdout",
     "output_type": "stream",
     "text": [
      "(5304, 12)\n",
      "                 DateTime  Latitude  Longitude  Depth  Magnitude MagType  \\\n",
      "0  1970/01/04 17:00:40.20    24.139    102.503   31.0        7.5      Ms   \n",
      "1  1970/01/06 05:35:51.80    -9.628    151.458    8.0        6.2      Ms   \n",
      "2  1970/01/08 17:12:39.10   -34.741    178.568  179.0        6.1      Mb   \n",
      "3  1970/01/10 12:07:08.60     6.825    126.737   73.0        6.1      Mb   \n",
      "4  1970/01/16 08:05:39.00    60.280   -152.660   85.0        6.0      ML   \n",
      "\n",
      "   NbStations  Gap  Distance  RMS Source       EventID  \n",
      "0        90.0  NaN       NaN  0.0    NEI  1.970010e+09  \n",
      "1        85.0  NaN       NaN  0.0    NEI  1.970011e+09  \n",
      "2        59.0  NaN       NaN  0.0    NEI  1.970011e+09  \n",
      "3        91.0  NaN       NaN  0.0    NEI  1.970011e+09  \n",
      "4         0.0  NaN       NaN  NaN     AK           NaN  \n"
     ]
    }
   ],
   "source": [
    "#Load the Earthquakes dataset. Export the dataset to an array as you covered in the previous lesson.\n",
    "import pandas as pd\n",
    "df = pd.read_csv('earthquakes1970-2014.csv')\n",
    "print(df.shape)\n",
    "print(df.head())\n"
   ]
  },
  {
   "cell_type": "markdown",
   "metadata": {},
   "source": [
    "5."
   ]
  },
  {
   "cell_type": "code",
   "execution_count": 19,
   "metadata": {},
   "outputs": [
    {
     "name": "stdout",
     "output_type": "stream",
     "text": [
      "    Longitude  Magnitude MagType  NbStations       EventID\n",
      "0    102.5030        7.5      Ms        90.0  1.970010e+09\n",
      "1    151.4580        6.2      Ms        85.0  1.970011e+09\n",
      "2    178.5680        6.1      Mb        59.0  1.970011e+09\n",
      "3    126.7370        6.1      Mb        91.0  1.970011e+09\n",
      "4   -152.6600        6.0      ML         0.0           NaN\n",
      "5   -177.3490        6.5      Mb       175.0  1.970012e+09\n",
      "6    142.9660        6.4      Ms       199.0  1.970012e+09\n",
      "7   -104.2980        6.6      Ms       140.0  1.970012e+09\n",
      "8    166.3700        6.4      Ms        91.0  1.970013e+09\n",
      "9    -99.4840        6.5      Ms       100.0  1.970020e+09\n",
      "10   122.1170        6.6      Ms        94.0  1.970021e+09\n",
      "11   100.7750        6.1      Ms        57.0  1.970021e+09\n",
      "12   103.0310        6.0      Ms        94.0  1.970022e+09\n",
      "13  -179.5898        6.0      ML         0.0           NaN\n",
      "14  -175.0400        6.1      ML         0.0           NaN\n",
      "15   143.7070        6.2      Ms        82.0  1.970030e+09\n",
      "16   168.6030        6.5      Ms        61.0  1.970031e+09\n",
      "17   148.8700        6.0      Mb        65.0  1.970031e+09\n",
      "18  -153.9700        6.5      ML         0.0           NaN\n",
      "19   -69.4990        6.0      Mb       118.0  1.970032e+09\n"
     ]
    }
   ],
   "source": [
    "#Slice first 20 rows and column numbers 3, 5, 6, 7, 12. Then, assign the array you sliced to a variable.\n",
    "\n",
    "df_sliced = df.iloc[:20,[2,4,5,6,11]]\n",
    "print(df_sliced)"
   ]
  },
  {
   "cell_type": "markdown",
   "metadata": {},
   "source": [
    "6.\n"
   ]
  },
  {
   "cell_type": "code",
   "execution_count": 20,
   "metadata": {},
   "outputs": [
    {
     "name": "stdout",
     "output_type": "stream",
     "text": [
      "    Magnitude  Longitude MagType  NbStations       EventID\n",
      "0         7.5   102.5030      Ms        90.0  1.970010e+09\n",
      "1         6.2   151.4580      Ms        85.0  1.970011e+09\n",
      "2         6.1   178.5680      Mb        59.0  1.970011e+09\n",
      "3         6.1   126.7370      Mb        91.0  1.970011e+09\n",
      "4         6.0  -152.6600      ML         0.0           NaN\n",
      "5         6.5  -177.3490      Mb       175.0  1.970012e+09\n",
      "6         6.4   142.9660      Ms       199.0  1.970012e+09\n",
      "7         6.6  -104.2980      Ms       140.0  1.970012e+09\n",
      "8         6.4   166.3700      Ms        91.0  1.970013e+09\n",
      "9         6.5   -99.4840      Ms       100.0  1.970020e+09\n",
      "10        6.6   122.1170      Ms        94.0  1.970021e+09\n",
      "11        6.1   100.7750      Ms        57.0  1.970021e+09\n",
      "12        6.0   103.0310      Ms        94.0  1.970022e+09\n",
      "13        6.0  -179.5898      ML         0.0           NaN\n",
      "14        6.1  -175.0400      ML         0.0           NaN\n",
      "15        6.2   143.7070      Ms        82.0  1.970030e+09\n",
      "16        6.5   168.6030      Ms        61.0  1.970031e+09\n",
      "17        6.0   148.8700      Mb        65.0  1.970031e+09\n",
      "18        6.5  -153.9700      ML         0.0           NaN\n",
      "19        6.0   -69.4990      Mb       118.0  1.970032e+09\n"
     ]
    }
   ],
   "source": [
    "#Display the row numbers Magnitude where last values are equal to 4.5 or higher. \n",
    "# Taking Magnitude to first column\n",
    "df_sliced = df_sliced[['Magnitude','Longitude','MagType','NbStations','EventID']]\n",
    "print(df_sliced[df_sliced['Magnitude'] >= 4.5])\n",
    "\n",
    "# sort by Magnitude\n",
    "# df_sliced = df_sliced.sort_values(by=['Magnitude'], ascending=False)\n",
    "# print(df_sliced)\n",
    "\n"
   ]
  },
  {
   "cell_type": "markdown",
   "metadata": {},
   "source": [
    "7.\n"
   ]
  },
  {
   "cell_type": "code",
   "execution_count": 32,
   "metadata": {},
   "outputs": [
    {
     "name": "stdout",
     "output_type": "stream",
     "text": [
      "    Magnitude  Longitude MagType  NbStations       EventID\n",
      "0         1.0     1.0000       1         1.0  1.000000e+00\n",
      "1         6.2   151.4580      Ms        85.0  1.970011e+09\n",
      "2         6.1   178.5680      Mb        59.0  1.970011e+09\n",
      "3         6.1   126.7370      Mb        91.0  1.970011e+09\n",
      "4         6.0  -152.6600      ML         0.0           NaN\n",
      "5         6.5  -177.3490      Mb       175.0  1.970012e+09\n",
      "6         6.4   142.9660      Ms       199.0  1.970012e+09\n",
      "7         6.6  -104.2980      Ms       140.0  1.970012e+09\n",
      "8         6.4   166.3700      Ms        91.0  1.970013e+09\n",
      "9         6.5   -99.4840      Ms       100.0  1.970020e+09\n",
      "10        6.6   122.1170      Ms        94.0  1.970021e+09\n",
      "11        6.1   100.7750      Ms        57.0  1.970021e+09\n",
      "12        6.0   103.0310      Ms        94.0  1.970022e+09\n",
      "13        6.0  -179.5898      ML         0.0           NaN\n",
      "14        6.1  -175.0400      ML         0.0           NaN\n",
      "15        6.2   143.7070      Ms        82.0  1.970030e+09\n",
      "16        6.5   168.6030      Ms        61.0  1.970031e+09\n",
      "17        6.0   148.8700      Mb        65.0  1.970031e+09\n",
      "18        6.5  -153.9700      ML         0.0           NaN\n",
      "19        6.0   -69.4990      Mb       118.0  1.970032e+09\n",
      "(20, 5)\n"
     ]
    }
   ],
   "source": [
    "#Assign 1 to first row\n",
    "df_sliced[df_sliced.index==0] = 1\n",
    "print(df_sliced)\n",
    "print(df_sliced.shape)"
   ]
  },
  {
   "cell_type": "code",
   "execution_count": 43,
   "metadata": {},
   "outputs": [],
   "source": [
    "# Save the final state of the array to disk. You are going to use this in the next assignment.\n",
    "df_sliced.to_csv('earthquakes1970-2014_sliced.csv', index=False)"
   ]
  },
  {
   "cell_type": "code",
   "execution_count": 103,
   "metadata": {},
   "outputs": [
    {
     "data": {
      "text/html": [
       "<div>\n",
       "<style scoped>\n",
       "    .dataframe tbody tr th:only-of-type {\n",
       "        vertical-align: middle;\n",
       "    }\n",
       "\n",
       "    .dataframe tbody tr th {\n",
       "        vertical-align: top;\n",
       "    }\n",
       "\n",
       "    .dataframe thead th {\n",
       "        text-align: right;\n",
       "    }\n",
       "</style>\n",
       "<table border=\"1\" class=\"dataframe\">\n",
       "  <thead>\n",
       "    <tr style=\"text-align: right;\">\n",
       "      <th></th>\n",
       "      <th>Magnitude</th>\n",
       "      <th>Longitude</th>\n",
       "      <th>MagType</th>\n",
       "      <th>NbStations</th>\n",
       "      <th>EventID</th>\n",
       "    </tr>\n",
       "  </thead>\n",
       "  <tbody>\n",
       "    <tr>\n",
       "      <th>0</th>\n",
       "      <td>1.0</td>\n",
       "      <td>1.000</td>\n",
       "      <td>1</td>\n",
       "      <td>1.0</td>\n",
       "      <td>1.000000e+00</td>\n",
       "    </tr>\n",
       "    <tr>\n",
       "      <th>1</th>\n",
       "      <td>6.2</td>\n",
       "      <td>151.458</td>\n",
       "      <td>Ms</td>\n",
       "      <td>85.0</td>\n",
       "      <td>1.970011e+09</td>\n",
       "    </tr>\n",
       "    <tr>\n",
       "      <th>2</th>\n",
       "      <td>6.1</td>\n",
       "      <td>178.568</td>\n",
       "      <td>Mb</td>\n",
       "      <td>59.0</td>\n",
       "      <td>1.970011e+09</td>\n",
       "    </tr>\n",
       "    <tr>\n",
       "      <th>3</th>\n",
       "      <td>6.1</td>\n",
       "      <td>126.737</td>\n",
       "      <td>Mb</td>\n",
       "      <td>91.0</td>\n",
       "      <td>1.970011e+09</td>\n",
       "    </tr>\n",
       "    <tr>\n",
       "      <th>4</th>\n",
       "      <td>6.0</td>\n",
       "      <td>-152.660</td>\n",
       "      <td>ML</td>\n",
       "      <td>0.0</td>\n",
       "      <td>NaN</td>\n",
       "    </tr>\n",
       "  </tbody>\n",
       "</table>\n",
       "</div>"
      ],
      "text/plain": [
       "   Magnitude  Longitude MagType  NbStations       EventID\n",
       "0        1.0      1.000       1         1.0  1.000000e+00\n",
       "1        6.2    151.458      Ms        85.0  1.970011e+09\n",
       "2        6.1    178.568      Mb        59.0  1.970011e+09\n",
       "3        6.1    126.737      Mb        91.0  1.970011e+09\n",
       "4        6.0   -152.660      ML         0.0           NaN"
      ]
     },
     "execution_count": 103,
     "metadata": {},
     "output_type": "execute_result"
    }
   ],
   "source": [
    "# Load the array you saved in the previous lesson from the disk.\n",
    "df_sliced_new = pd.read_csv('earthquakes1970-2014_sliced.csv')\n",
    "df_sliced_new.head()\n",
    "\n"
   ]
  },
  {
   "cell_type": "code",
   "execution_count": 104,
   "metadata": {},
   "outputs": [
    {
     "data": {
      "text/plain": [
       "Magnitude     5.990000e+00\n",
       "Longitude     2.211561e+01\n",
       "NbStations    7.560000e+01\n",
       "EventID       1.846893e+09\n",
       "dtype: float64"
      ]
     },
     "execution_count": 104,
     "metadata": {},
     "output_type": "execute_result"
    }
   ],
   "source": [
    "# Display the mean and the standard deviation for each column.\n",
    "df_sliced_new.mean(skipna=True, numeric_only=True) # mean\n",
    "\n",
    "\n"
   ]
  },
  {
   "cell_type": "code",
   "execution_count": 105,
   "metadata": {},
   "outputs": [
    {
     "data": {
      "text/plain": [
       "Magnitude     1.195562e+00\n",
       "Longitude     1.419991e+02\n",
       "NbStations    5.726338e+01\n",
       "EventID       4.925048e+08\n",
       "dtype: float64"
      ]
     },
     "execution_count": 105,
     "metadata": {},
     "output_type": "execute_result"
    }
   ],
   "source": [
    "df_sliced_new.std(skipna=True, numeric_only=True) # std"
   ]
  },
  {
   "cell_type": "code",
   "execution_count": 106,
   "metadata": {},
   "outputs": [
    {
     "data": {
      "text/plain": [
       "Magnitude     float64\n",
       "Longitude     float64\n",
       "MagType        object\n",
       "NbStations    float64\n",
       "EventID       float64\n",
       "dtype: object"
      ]
     },
     "execution_count": 106,
     "metadata": {},
     "output_type": "execute_result"
    }
   ],
   "source": [
    "#types\n",
    "df_sliced_new.dtypes"
   ]
  },
  {
   "cell_type": "code",
   "execution_count": 107,
   "metadata": {},
   "outputs": [
    {
     "data": {
      "text/html": [
       "<div>\n",
       "<style scoped>\n",
       "    .dataframe tbody tr th:only-of-type {\n",
       "        vertical-align: middle;\n",
       "    }\n",
       "\n",
       "    .dataframe tbody tr th {\n",
       "        vertical-align: top;\n",
       "    }\n",
       "\n",
       "    .dataframe thead th {\n",
       "        text-align: right;\n",
       "    }\n",
       "</style>\n",
       "<table border=\"1\" class=\"dataframe\">\n",
       "  <thead>\n",
       "    <tr style=\"text-align: right;\">\n",
       "      <th></th>\n",
       "      <th>Magnitude</th>\n",
       "      <th>Longitude</th>\n",
       "      <th>NbStations</th>\n",
       "      <th>EventID</th>\n",
       "    </tr>\n",
       "  </thead>\n",
       "  <tbody>\n",
       "    <tr>\n",
       "      <th>count</th>\n",
       "      <td>20.000000</td>\n",
       "      <td>20.000000</td>\n",
       "      <td>20.00000</td>\n",
       "      <td>1.600000e+01</td>\n",
       "    </tr>\n",
       "    <tr>\n",
       "      <th>mean</th>\n",
       "      <td>5.990000</td>\n",
       "      <td>22.115610</td>\n",
       "      <td>75.60000</td>\n",
       "      <td>1.846893e+09</td>\n",
       "    </tr>\n",
       "    <tr>\n",
       "      <th>std</th>\n",
       "      <td>1.195562</td>\n",
       "      <td>141.999134</td>\n",
       "      <td>57.26338</td>\n",
       "      <td>4.925048e+08</td>\n",
       "    </tr>\n",
       "    <tr>\n",
       "      <th>min</th>\n",
       "      <td>1.000000</td>\n",
       "      <td>-179.589800</td>\n",
       "      <td>0.00000</td>\n",
       "      <td>1.000000e+00</td>\n",
       "    </tr>\n",
       "    <tr>\n",
       "      <th>25%</th>\n",
       "      <td>6.000000</td>\n",
       "      <td>-116.388500</td>\n",
       "      <td>43.00000</td>\n",
       "      <td>1.970012e+09</td>\n",
       "    </tr>\n",
       "    <tr>\n",
       "      <th>50%</th>\n",
       "      <td>6.150000</td>\n",
       "      <td>101.903000</td>\n",
       "      <td>83.50000</td>\n",
       "      <td>1.970017e+09</td>\n",
       "    </tr>\n",
       "    <tr>\n",
       "      <th>75%</th>\n",
       "      <td>6.500000</td>\n",
       "      <td>144.997750</td>\n",
       "      <td>95.50000</td>\n",
       "      <td>1.970024e+09</td>\n",
       "    </tr>\n",
       "    <tr>\n",
       "      <th>max</th>\n",
       "      <td>6.600000</td>\n",
       "      <td>178.568000</td>\n",
       "      <td>199.00000</td>\n",
       "      <td>1.970032e+09</td>\n",
       "    </tr>\n",
       "  </tbody>\n",
       "</table>\n",
       "</div>"
      ],
      "text/plain": [
       "       Magnitude   Longitude  NbStations       EventID\n",
       "count  20.000000   20.000000    20.00000  1.600000e+01\n",
       "mean    5.990000   22.115610    75.60000  1.846893e+09\n",
       "std     1.195562  141.999134    57.26338  4.925048e+08\n",
       "min     1.000000 -179.589800     0.00000  1.000000e+00\n",
       "25%     6.000000 -116.388500    43.00000  1.970012e+09\n",
       "50%     6.150000  101.903000    83.50000  1.970017e+09\n",
       "75%     6.500000  144.997750    95.50000  1.970024e+09\n",
       "max     6.600000  178.568000   199.00000  1.970032e+09"
      ]
     },
     "execution_count": 107,
     "metadata": {},
     "output_type": "execute_result"
    }
   ],
   "source": [
    "# describe\n",
    "df_sliced_new.describe()"
   ]
  },
  {
   "cell_type": "code",
   "execution_count": 108,
   "metadata": {},
   "outputs": [
    {
     "data": {
      "text/plain": [
       "Index(['Magnitude', 'Longitude', 'MagType', 'NbStations', 'EventID'], dtype='object')"
      ]
     },
     "execution_count": 108,
     "metadata": {},
     "output_type": "execute_result"
    }
   ],
   "source": [
    "# columns\n",
    "df_sliced_new.columns"
   ]
  },
  {
   "cell_type": "code",
   "execution_count": 109,
   "metadata": {},
   "outputs": [],
   "source": [
    "# dropping MagType\n",
    "df_sliced_new = df_sliced_new.drop(['MagType'], axis=1)"
   ]
  },
  {
   "cell_type": "code",
   "execution_count": 110,
   "metadata": {},
   "outputs": [
    {
     "data": {
      "text/plain": [
       "Index(['Magnitude', 'Longitude', 'NbStations', 'EventID'], dtype='object')"
      ]
     },
     "execution_count": 110,
     "metadata": {},
     "output_type": "execute_result"
    }
   ],
   "source": [
    "# columns\n",
    "df_sliced_new.columns"
   ]
  },
  {
   "cell_type": "code",
   "execution_count": 111,
   "metadata": {},
   "outputs": [
    {
     "data": {
      "text/plain": [
       "Magnitude     float64\n",
       "Longitude     float64\n",
       "NbStations    float64\n",
       "EventID       float64\n",
       "dtype: object"
      ]
     },
     "execution_count": 111,
     "metadata": {},
     "output_type": "execute_result"
    }
   ],
   "source": [
    "#types\n",
    "df_sliced_new.dtypes"
   ]
  },
  {
   "cell_type": "code",
   "execution_count": 112,
   "metadata": {},
   "outputs": [
    {
     "data": {
      "text/html": [
       "<div>\n",
       "<style scoped>\n",
       "    .dataframe tbody tr th:only-of-type {\n",
       "        vertical-align: middle;\n",
       "    }\n",
       "\n",
       "    .dataframe tbody tr th {\n",
       "        vertical-align: top;\n",
       "    }\n",
       "\n",
       "    .dataframe thead th {\n",
       "        text-align: right;\n",
       "    }\n",
       "</style>\n",
       "<table border=\"1\" class=\"dataframe\">\n",
       "  <thead>\n",
       "    <tr style=\"text-align: right;\">\n",
       "      <th></th>\n",
       "      <th>Magnitude</th>\n",
       "      <th>Longitude</th>\n",
       "      <th>NbStations</th>\n",
       "      <th>EventID</th>\n",
       "    </tr>\n",
       "  </thead>\n",
       "  <tbody>\n",
       "    <tr>\n",
       "      <th>0</th>\n",
       "      <td>0.0</td>\n",
       "      <td>-24.0000</td>\n",
       "      <td>-9.0</td>\n",
       "      <td>-3.000000e+00</td>\n",
       "    </tr>\n",
       "    <tr>\n",
       "      <th>1</th>\n",
       "      <td>5.2</td>\n",
       "      <td>126.4580</td>\n",
       "      <td>75.0</td>\n",
       "      <td>1.970011e+09</td>\n",
       "    </tr>\n",
       "    <tr>\n",
       "      <th>2</th>\n",
       "      <td>5.1</td>\n",
       "      <td>153.5680</td>\n",
       "      <td>49.0</td>\n",
       "      <td>1.970011e+09</td>\n",
       "    </tr>\n",
       "    <tr>\n",
       "      <th>3</th>\n",
       "      <td>5.1</td>\n",
       "      <td>101.7370</td>\n",
       "      <td>81.0</td>\n",
       "      <td>1.970011e+09</td>\n",
       "    </tr>\n",
       "    <tr>\n",
       "      <th>4</th>\n",
       "      <td>5.0</td>\n",
       "      <td>-177.6600</td>\n",
       "      <td>-10.0</td>\n",
       "      <td>NaN</td>\n",
       "    </tr>\n",
       "    <tr>\n",
       "      <th>5</th>\n",
       "      <td>5.5</td>\n",
       "      <td>-202.3490</td>\n",
       "      <td>165.0</td>\n",
       "      <td>1.970012e+09</td>\n",
       "    </tr>\n",
       "    <tr>\n",
       "      <th>6</th>\n",
       "      <td>5.4</td>\n",
       "      <td>117.9660</td>\n",
       "      <td>189.0</td>\n",
       "      <td>1.970012e+09</td>\n",
       "    </tr>\n",
       "    <tr>\n",
       "      <th>7</th>\n",
       "      <td>5.6</td>\n",
       "      <td>-129.2980</td>\n",
       "      <td>130.0</td>\n",
       "      <td>1.970012e+09</td>\n",
       "    </tr>\n",
       "    <tr>\n",
       "      <th>8</th>\n",
       "      <td>5.4</td>\n",
       "      <td>141.3700</td>\n",
       "      <td>81.0</td>\n",
       "      <td>1.970013e+09</td>\n",
       "    </tr>\n",
       "    <tr>\n",
       "      <th>9</th>\n",
       "      <td>5.5</td>\n",
       "      <td>-124.4840</td>\n",
       "      <td>90.0</td>\n",
       "      <td>1.970020e+09</td>\n",
       "    </tr>\n",
       "    <tr>\n",
       "      <th>10</th>\n",
       "      <td>5.6</td>\n",
       "      <td>97.1170</td>\n",
       "      <td>84.0</td>\n",
       "      <td>1.970021e+09</td>\n",
       "    </tr>\n",
       "    <tr>\n",
       "      <th>11</th>\n",
       "      <td>5.1</td>\n",
       "      <td>75.7750</td>\n",
       "      <td>47.0</td>\n",
       "      <td>1.970021e+09</td>\n",
       "    </tr>\n",
       "    <tr>\n",
       "      <th>12</th>\n",
       "      <td>5.0</td>\n",
       "      <td>78.0310</td>\n",
       "      <td>84.0</td>\n",
       "      <td>1.970022e+09</td>\n",
       "    </tr>\n",
       "    <tr>\n",
       "      <th>13</th>\n",
       "      <td>5.0</td>\n",
       "      <td>-204.5898</td>\n",
       "      <td>-10.0</td>\n",
       "      <td>NaN</td>\n",
       "    </tr>\n",
       "    <tr>\n",
       "      <th>14</th>\n",
       "      <td>5.1</td>\n",
       "      <td>-200.0400</td>\n",
       "      <td>-10.0</td>\n",
       "      <td>NaN</td>\n",
       "    </tr>\n",
       "    <tr>\n",
       "      <th>15</th>\n",
       "      <td>5.2</td>\n",
       "      <td>118.7070</td>\n",
       "      <td>72.0</td>\n",
       "      <td>1.970030e+09</td>\n",
       "    </tr>\n",
       "    <tr>\n",
       "      <th>16</th>\n",
       "      <td>5.5</td>\n",
       "      <td>143.6030</td>\n",
       "      <td>51.0</td>\n",
       "      <td>1.970031e+09</td>\n",
       "    </tr>\n",
       "    <tr>\n",
       "      <th>17</th>\n",
       "      <td>5.0</td>\n",
       "      <td>123.8700</td>\n",
       "      <td>55.0</td>\n",
       "      <td>1.970031e+09</td>\n",
       "    </tr>\n",
       "    <tr>\n",
       "      <th>18</th>\n",
       "      <td>5.5</td>\n",
       "      <td>-178.9700</td>\n",
       "      <td>-10.0</td>\n",
       "      <td>NaN</td>\n",
       "    </tr>\n",
       "    <tr>\n",
       "      <th>19</th>\n",
       "      <td>5.0</td>\n",
       "      <td>-94.4990</td>\n",
       "      <td>108.0</td>\n",
       "      <td>1.970032e+09</td>\n",
       "    </tr>\n",
       "  </tbody>\n",
       "</table>\n",
       "</div>"
      ],
      "text/plain": [
       "    Magnitude  Longitude  NbStations       EventID\n",
       "0         0.0   -24.0000        -9.0 -3.000000e+00\n",
       "1         5.2   126.4580        75.0  1.970011e+09\n",
       "2         5.1   153.5680        49.0  1.970011e+09\n",
       "3         5.1   101.7370        81.0  1.970011e+09\n",
       "4         5.0  -177.6600       -10.0           NaN\n",
       "5         5.5  -202.3490       165.0  1.970012e+09\n",
       "6         5.4   117.9660       189.0  1.970012e+09\n",
       "7         5.6  -129.2980       130.0  1.970012e+09\n",
       "8         5.4   141.3700        81.0  1.970013e+09\n",
       "9         5.5  -124.4840        90.0  1.970020e+09\n",
       "10        5.6    97.1170        84.0  1.970021e+09\n",
       "11        5.1    75.7750        47.0  1.970021e+09\n",
       "12        5.0    78.0310        84.0  1.970022e+09\n",
       "13        5.0  -204.5898       -10.0           NaN\n",
       "14        5.1  -200.0400       -10.0           NaN\n",
       "15        5.2   118.7070        72.0  1.970030e+09\n",
       "16        5.5   143.6030        51.0  1.970031e+09\n",
       "17        5.0   123.8700        55.0  1.970031e+09\n",
       "18        5.5  -178.9700       -10.0           NaN\n",
       "19        5.0   -94.4990       108.0  1.970032e+09"
      ]
     },
     "execution_count": 112,
     "metadata": {},
     "output_type": "execute_result"
    }
   ],
   "source": [
    "# Subtract 1, 25, 25, 10, 4 from columns in order. (Remember it can be dobe in one line of code.)\n",
    "\n",
    "df_sliced_new = df_sliced_new.select_dtypes(include=None, exclude=object) - np.array([1, 25, 10, 4])\n",
    "df_sliced_new\n"
   ]
  },
  {
   "cell_type": "code",
   "execution_count": 113,
   "metadata": {},
   "outputs": [
    {
     "data": {
      "text/html": [
       "<div>\n",
       "<style scoped>\n",
       "    .dataframe tbody tr th:only-of-type {\n",
       "        vertical-align: middle;\n",
       "    }\n",
       "\n",
       "    .dataframe tbody tr th {\n",
       "        vertical-align: top;\n",
       "    }\n",
       "\n",
       "    .dataframe thead th {\n",
       "        text-align: right;\n",
       "    }\n",
       "</style>\n",
       "<table border=\"1\" class=\"dataframe\">\n",
       "  <thead>\n",
       "    <tr style=\"text-align: right;\">\n",
       "      <th></th>\n",
       "      <th>Magnitude</th>\n",
       "      <th>Longitude</th>\n",
       "      <th>NbStations</th>\n",
       "      <th>EventID</th>\n",
       "    </tr>\n",
       "  </thead>\n",
       "  <tbody>\n",
       "    <tr>\n",
       "      <th>0</th>\n",
       "      <td>0.0</td>\n",
       "      <td>-48.0000</td>\n",
       "      <td>-18.0</td>\n",
       "      <td>-6.000000e+00</td>\n",
       "    </tr>\n",
       "    <tr>\n",
       "      <th>1</th>\n",
       "      <td>10.4</td>\n",
       "      <td>252.9160</td>\n",
       "      <td>150.0</td>\n",
       "      <td>3.940021e+09</td>\n",
       "    </tr>\n",
       "    <tr>\n",
       "      <th>2</th>\n",
       "      <td>10.2</td>\n",
       "      <td>307.1360</td>\n",
       "      <td>98.0</td>\n",
       "      <td>3.940022e+09</td>\n",
       "    </tr>\n",
       "    <tr>\n",
       "      <th>3</th>\n",
       "      <td>10.2</td>\n",
       "      <td>203.4740</td>\n",
       "      <td>162.0</td>\n",
       "      <td>3.940022e+09</td>\n",
       "    </tr>\n",
       "    <tr>\n",
       "      <th>4</th>\n",
       "      <td>10.0</td>\n",
       "      <td>-355.3200</td>\n",
       "      <td>-20.0</td>\n",
       "      <td>NaN</td>\n",
       "    </tr>\n",
       "    <tr>\n",
       "      <th>5</th>\n",
       "      <td>11.0</td>\n",
       "      <td>-404.6980</td>\n",
       "      <td>330.0</td>\n",
       "      <td>3.940024e+09</td>\n",
       "    </tr>\n",
       "    <tr>\n",
       "      <th>6</th>\n",
       "      <td>10.8</td>\n",
       "      <td>235.9320</td>\n",
       "      <td>378.0</td>\n",
       "      <td>3.940024e+09</td>\n",
       "    </tr>\n",
       "    <tr>\n",
       "      <th>7</th>\n",
       "      <td>11.2</td>\n",
       "      <td>-258.5960</td>\n",
       "      <td>260.0</td>\n",
       "      <td>3.940024e+09</td>\n",
       "    </tr>\n",
       "    <tr>\n",
       "      <th>8</th>\n",
       "      <td>10.8</td>\n",
       "      <td>282.7400</td>\n",
       "      <td>162.0</td>\n",
       "      <td>3.940025e+09</td>\n",
       "    </tr>\n",
       "    <tr>\n",
       "      <th>9</th>\n",
       "      <td>11.0</td>\n",
       "      <td>-248.9680</td>\n",
       "      <td>180.0</td>\n",
       "      <td>3.940041e+09</td>\n",
       "    </tr>\n",
       "    <tr>\n",
       "      <th>10</th>\n",
       "      <td>11.2</td>\n",
       "      <td>194.2340</td>\n",
       "      <td>168.0</td>\n",
       "      <td>3.940041e+09</td>\n",
       "    </tr>\n",
       "    <tr>\n",
       "      <th>11</th>\n",
       "      <td>10.2</td>\n",
       "      <td>151.5500</td>\n",
       "      <td>94.0</td>\n",
       "      <td>3.940041e+09</td>\n",
       "    </tr>\n",
       "    <tr>\n",
       "      <th>12</th>\n",
       "      <td>10.0</td>\n",
       "      <td>156.0620</td>\n",
       "      <td>168.0</td>\n",
       "      <td>3.940045e+09</td>\n",
       "    </tr>\n",
       "    <tr>\n",
       "      <th>13</th>\n",
       "      <td>10.0</td>\n",
       "      <td>-409.1796</td>\n",
       "      <td>-20.0</td>\n",
       "      <td>NaN</td>\n",
       "    </tr>\n",
       "    <tr>\n",
       "      <th>14</th>\n",
       "      <td>10.2</td>\n",
       "      <td>-400.0800</td>\n",
       "      <td>-20.0</td>\n",
       "      <td>NaN</td>\n",
       "    </tr>\n",
       "    <tr>\n",
       "      <th>15</th>\n",
       "      <td>10.4</td>\n",
       "      <td>237.4140</td>\n",
       "      <td>144.0</td>\n",
       "      <td>3.940061e+09</td>\n",
       "    </tr>\n",
       "    <tr>\n",
       "      <th>16</th>\n",
       "      <td>11.0</td>\n",
       "      <td>287.2060</td>\n",
       "      <td>102.0</td>\n",
       "      <td>3.940062e+09</td>\n",
       "    </tr>\n",
       "    <tr>\n",
       "      <th>17</th>\n",
       "      <td>10.0</td>\n",
       "      <td>247.7400</td>\n",
       "      <td>110.0</td>\n",
       "      <td>3.940062e+09</td>\n",
       "    </tr>\n",
       "    <tr>\n",
       "      <th>18</th>\n",
       "      <td>11.0</td>\n",
       "      <td>-357.9400</td>\n",
       "      <td>-20.0</td>\n",
       "      <td>NaN</td>\n",
       "    </tr>\n",
       "    <tr>\n",
       "      <th>19</th>\n",
       "      <td>10.0</td>\n",
       "      <td>-188.9980</td>\n",
       "      <td>216.0</td>\n",
       "      <td>3.940063e+09</td>\n",
       "    </tr>\n",
       "  </tbody>\n",
       "</table>\n",
       "</div>"
      ],
      "text/plain": [
       "    Magnitude  Longitude  NbStations       EventID\n",
       "0         0.0   -48.0000       -18.0 -6.000000e+00\n",
       "1        10.4   252.9160       150.0  3.940021e+09\n",
       "2        10.2   307.1360        98.0  3.940022e+09\n",
       "3        10.2   203.4740       162.0  3.940022e+09\n",
       "4        10.0  -355.3200       -20.0           NaN\n",
       "5        11.0  -404.6980       330.0  3.940024e+09\n",
       "6        10.8   235.9320       378.0  3.940024e+09\n",
       "7        11.2  -258.5960       260.0  3.940024e+09\n",
       "8        10.8   282.7400       162.0  3.940025e+09\n",
       "9        11.0  -248.9680       180.0  3.940041e+09\n",
       "10       11.2   194.2340       168.0  3.940041e+09\n",
       "11       10.2   151.5500        94.0  3.940041e+09\n",
       "12       10.0   156.0620       168.0  3.940045e+09\n",
       "13       10.0  -409.1796       -20.0           NaN\n",
       "14       10.2  -400.0800       -20.0           NaN\n",
       "15       10.4   237.4140       144.0  3.940061e+09\n",
       "16       11.0   287.2060       102.0  3.940062e+09\n",
       "17       10.0   247.7400       110.0  3.940062e+09\n",
       "18       11.0  -357.9400       -20.0           NaN\n",
       "19       10.0  -188.9980       216.0  3.940063e+09"
      ]
     },
     "execution_count": 113,
     "metadata": {},
     "output_type": "execute_result"
    }
   ],
   "source": [
    "# Multiply each element by 2. (Remember it can be done in one line of code.)\n",
    "df_sliced_new = df_sliced_new * 2\n",
    "df_sliced_new\n"
   ]
  },
  {
   "cell_type": "code",
   "execution_count": null,
   "metadata": {},
   "outputs": [],
   "source": []
  }
 ],
 "metadata": {
  "kernelspec": {
   "display_name": "Python 3.10.4 64-bit",
   "language": "python",
   "name": "python3"
  },
  "language_info": {
   "codemirror_mode": {
    "name": "ipython",
    "version": 3
   },
   "file_extension": ".py",
   "mimetype": "text/x-python",
   "name": "python",
   "nbconvert_exporter": "python",
   "pygments_lexer": "ipython3",
   "version": "3.10.4"
  },
  "orig_nbformat": 4,
  "vscode": {
   "interpreter": {
    "hash": "aee8b7b246df8f9039afb4144a1f6fd8d2ca17a180786b69acc140d282b71a49"
   }
  }
 },
 "nbformat": 4,
 "nbformat_minor": 2
}
