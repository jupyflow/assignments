{
 "cells": [
  {
   "cell_type": "code",
   "execution_count": 2,
   "metadata": {},
   "outputs": [],
   "source": [
    "# Q1\n",
    "# If a list of people has 24 women and 21 men, then the probability of choosing a man from the list is 21/45.\n",
    "# What is the probability of not choosing a man?\n",
    "\n",
    "# Probablity of choosing women 24/45\n",
    "\n",
    "# a) 24/45"
   ]
  },
  {
   "cell_type": "code",
   "execution_count": 4,
   "metadata": {},
   "outputs": [],
   "source": [
    "# Q2\n",
    "# The probability that Bernice will travel by plane sometime in the next year is 10%. The probability of a plane crash at any time is 0.005%.\n",
    "# What is the probability that Bernice will be in a plane crash sometime in the next year?\n",
    "\n",
    "# P(Bernice is in a plane crash sometime in the next year) = P(Bernice is in a plane crash at any time) * P(Bernice is in a plane crash sometime in the next year)\n",
    "\n",
    "# d) 0.0005%\n"
   ]
  },
  {
   "cell_type": "code",
   "execution_count": 5,
   "metadata": {},
   "outputs": [],
   "source": [
    "# Q3\n",
    "# A data scientist wants to study the behavior of users on the company website. Each time a user clicks on a link on the website, there is a 5% chance that the user will be asked to complete a short survey about their behavior on the website.\n",
    "# The data scientist uses the survey data to conclude that, on average, users spend 15 minutes surfing the company website before moving on to other things. What is wrong with this conclusion?\n",
    "\n",
    "# b) People who surf longer are likely to click more links, increasing the odds of getting a survey."
   ]
  },
  {
   "cell_type": "code",
   "execution_count": 1,
   "metadata": {},
   "outputs": [],
   "source": [
    "# Q4\n",
    "# A diagnostic test has a 98% probability of giving a positive result when applied to a person suffering from Thripshaw's disease and a 10% probability of giving a (false) positive when applied to a nonsufferer. It is estimated that 0.5% of the population has the disease.\n",
    "# Suppose that the test is now administered to a person whose disease status is unknown. Calculate the probability that the test will be positive.\n",
    "\n",
    "# c) 0.1044\n",
    "# P(Test is positive) = (0.98 *  0.5/100)  + (0.1 * 99.5/100) = 0.1044"
   ]
  },
  {
   "cell_type": "code",
   "execution_count": null,
   "metadata": {},
   "outputs": [],
   "source": []
  }
 ],
 "metadata": {
  "kernelspec": {
   "display_name": "Python 3.10.4 64-bit",
   "language": "python",
   "name": "python3"
  },
  "language_info": {
   "codemirror_mode": {
    "name": "ipython",
    "version": 3
   },
   "file_extension": ".py",
   "mimetype": "text/x-python",
   "name": "python",
   "nbconvert_exporter": "python",
   "pygments_lexer": "ipython3",
   "version": "3.10.4"
  },
  "orig_nbformat": 4,
  "vscode": {
   "interpreter": {
    "hash": "aee8b7b246df8f9039afb4144a1f6fd8d2ca17a180786b69acc140d282b71a49"
   }
  }
 },
 "nbformat": 4,
 "nbformat_minor": 2
}
