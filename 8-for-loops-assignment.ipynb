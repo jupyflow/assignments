{
 "cells": [
  {
   "cell_type": "markdown",
   "metadata": {},
   "source": [
    "1. Do the following to create a program that simulates how websites ensure that everyone has a unique username.\n",
    "\n",
    "􏰀* Make a list of five or more usernames called current_users.\n",
    "\n",
    "􏰀* Make another list of five usernames called new_users. Make sure one or two of the new usernames are also in the current_users list.\n",
    "\n",
    "􏰀* Loop through the new_users list to see if each new username has already been used. If it has, print a message that the person will need to enter a new username. If a username has not been used, print a message saying that the username is available.\n",
    "\n",
    "􏰀* Make sure your comparison is case insensitive. If 'John' has been used, 'JOHN' should not be accepted.\n",
    "\n",
    "​"
   ]
  },
  {
   "cell_type": "code",
   "execution_count": 9,
   "metadata": {},
   "outputs": [
    {
     "name": "stdout",
     "output_type": "stream",
     "text": [
      "This username, JOHN, is taken. You need to enter a new username\n",
      "The username is available: Mark\n",
      "The username is available: Tom\n",
      "The username is available: Chris\n",
      "This username, Alex, is taken. You need to enter a new username\n"
     ]
    }
   ],
   "source": [
    "current_users = ['John', 'ALEX', 'Lisa', 'Mike', 'Bob']\n",
    "new_users = ['JOHN', 'Mark', 'Tom', 'Chris', 'Alex']\n",
    "checklist = []\n",
    "for current_user in current_users:\n",
    "    checklist.append(current_user.lower())\n",
    "\n",
    "for new_user in new_users:\n",
    "    if new_user.lower() in checklist:\n",
    "        print (\"This username, \" + new_user + \", is taken. You need to enter a new username\")\n",
    "    else:\n",
    "        print (\"The username is available: \" + new_user)"
   ]
  },
  {
   "cell_type": "markdown",
   "metadata": {},
   "source": []
  }
 ],
 "metadata": {
  "interpreter": {
   "hash": "aee8b7b246df8f9039afb4144a1f6fd8d2ca17a180786b69acc140d282b71a49"
  },
  "kernelspec": {
   "display_name": "Python 3.10.4 64-bit",
   "language": "python",
   "name": "python3"
  },
  "language_info": {
   "codemirror_mode": {
    "name": "ipython",
    "version": 3
   },
   "file_extension": ".py",
   "mimetype": "text/x-python",
   "name": "python",
   "nbconvert_exporter": "python",
   "pygments_lexer": "ipython3",
   "version": "3.10.4"
  },
  "orig_nbformat": 4
 },
 "nbformat": 4,
 "nbformat_minor": 2
}
