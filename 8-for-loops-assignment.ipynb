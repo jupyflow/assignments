{
 "cells": [
  {
   "cell_type": "markdown",
   "metadata": {},
   "source": [
    "1. Do the following to create a program that simulates how websites ensure that everyone has a unique username.\n",
    "\n",
    "􏰀* Make a list of five or more usernames called current_users.\n",
    "\n",
    "􏰀* Make another list of five usernames called new_users. Make sure one or two of the new usernames are also in the current_users list.\n",
    "\n",
    "􏰀* Loop through the new_users list to see if each new username has already been used. If it has, print a message that the person will need to enter a new username. If a username has not been used, print a message saying that the username is available.\n",
    "\n",
    "􏰀* Make sure your comparison is case insensitive. If 'John' has been used, 'JOHN' should not be accepted.\n",
    "\n",
    "​"
   ]
  },
  {
   "cell_type": "code",
   "execution_count": 36,
   "metadata": {},
   "outputs": [
    {
     "name": "stdout",
     "output_type": "stream",
     "text": [
      "This username, JOHN, is taken. You need to enter a new username\n",
      "The username is available: Mark\n",
      "The username is available: Tom\n",
      "The username is available: Chris\n",
      "This username, Alex, is taken. You need to enter a new username\n"
     ]
    }
   ],
   "source": [
    "current_users = ['John', 'ALEX', 'Lisa', 'Mike', 'Bob']\n",
    "new_users = ['JOHN', 'Mark', 'Tom', 'Chris', 'Alex']\n",
    "checklist = []\n",
    "for current_user in current_users:\n",
    "    checklist.append(current_user.lower())\n",
    "\n",
    "for new_user in new_users:\n",
    "    if new_user.lower() in checklist:\n",
    "        print (\"This username, \" + new_user + \", is taken. You need to enter a new username\")\n",
    "    else:\n",
    "        print (\"The username is available: \" + new_user)"
   ]
  },
  {
   "cell_type": "markdown",
   "metadata": {},
   "source": [
    "2. Color probability\n",
    "\n",
    "You're playing a game with a friend involving a bag of marbles. In the bag are ten marbles:\n",
    "\n",
    "1 smooth red marble\n",
    "\n",
    "4 bumpy red marbles\n",
    "\n",
    "2 bumpy yellow marbles\n",
    "\n",
    "1 smooth yellow marble\n",
    "\n",
    "1 bumpy green marble\n",
    "\n",
    "1 smooth green marble\n",
    "\n",
    "You can see that the probability of picking a smooth red marble from the bag is 1 / 10 or 0.10 and the probability of picking a bumpy yellow marble is 2 / 10 or 0.20.\n",
    "\n",
    "The game works like this: your friend puts her hand in the bag, chooses a marble (without looking at it) and tells you whether it's bumpy or smooth. Then you have to guess which color it is before she pulls it out and reveals whether you're correct or not.\n",
    "\n",
    "You know that the information about whether the marble is bumpy or smooth changes the probability of what color it is, and you want some help with your guesses.\n",
    "\n",
    "Write a function color_probability that takes two arguments: a color ('red', 'yellow', or 'green') and a texture ('bumpy' or 'smooth') and returns the probability of drawing that combination as a decimal fraction accurate to two places.\n",
    "\n",
    "The probability should be a string and should discard any digits after the 100ths place. For example, 2 / 3 or 0.6666666666666666 would become the string '0.66'. Note this is different from rounding.\n",
    "\n",
    "As a complete example, color_probability('red', 'bumpy') should return the string '0.57'."
   ]
  },
  {
   "cell_type": "code",
   "execution_count": 37,
   "metadata": {},
   "outputs": [
    {
     "name": "stdout",
     "output_type": "stream",
     "text": [
      "0.57\n"
     ]
    }
   ],
   "source": [
    "red_bumpy = 4\n",
    "red_smooth = 1\n",
    "yellow_bumpy = 2\n",
    "yellow_smooth = 1\n",
    "green_bumpy = 1\n",
    "green_smooth = 1\n",
    "\n",
    "picked_texture = 'bumpy'\n",
    "picked_color = 'red'\n",
    "\n",
    "def color_probablity(color, color_texture):\n",
    "    if color_texture == 'bumpy' and color == 'red':\n",
    "        return red_bumpy / (red_bumpy + yellow_bumpy + green_bumpy)\n",
    "    elif color_texture == 'bumpy' and color == 'yellow':\n",
    "        return yellow_bumpy / (red_bumpy + yellow_bumpy + green_bumpy)\n",
    "    elif color_texture == 'bumpy' and color == 'green':\n",
    "        return green_bumpy / (red_bumpy + yellow_bumpy + green_bumpy)\n",
    "    elif color_texture == 'smooth' and color == 'red':\n",
    "        return red_smooth / (red_smooth + yellow_smooth + green_smooth)\n",
    "    elif color_texture == 'smooth' and color == 'yellow':\n",
    "        return yellow_smooth / (red_smooth + yellow_smooth + green_smooth)\n",
    "    elif color_texture == 'smooth' and color == 'green':\n",
    "        return green_smooth / (red_smooth + yellow_smooth + green_smooth)\n",
    "\n",
    "\n",
    "result = \"{:.2f}\".format(color_probablity(picked_color, picked_texture))\n",
    "print(result)\n",
    "# type(result)\n",
    "\n",
    "\n",
    "\n"
   ]
  },
  {
   "cell_type": "markdown",
   "metadata": {},
   "source": [
    "3. Write an if-elif-else chain that determines a person’s stage of life.\n",
    "\n",
    "Set a value for the variable age, and then:\n",
    "\n",
    "􏰀* If the person is less than 2 years old, print a message that the person is a baby.\n",
    "\n",
    "*􏰀 If the person is at least 2 years old but less than 4, print a message that the person is a toddler.\n",
    "\n",
    "*􏰀 If the person is at least 4 years old but less than 13, print a message that the person is a kid.\n",
    "\n",
    "*􏰀 If the person is at least 13 years old but less than 20, print a message that the person is a teenager.\n",
    "\n",
    "*􏰀 If the person is at least 20 years old but less than 65, print a message that the person is an adult.\n",
    "\n",
    "*􏰀 If the person is age 65 or older, print a message that the person is an elder.\n",
    "\n"
   ]
  },
  {
   "cell_type": "code",
   "execution_count": 38,
   "metadata": {},
   "outputs": [
    {
     "name": "stdout",
     "output_type": "stream",
     "text": [
      "You are an adult\n"
     ]
    }
   ],
   "source": [
    "age = int(input(\"How old are you?\"))\n",
    "if age < 2:\n",
    "    print (\"You are a baby\")\n",
    "elif age < 4:\n",
    "    print (\"You are a toddler\")\n",
    "elif age < 13:\n",
    "    print (\"You are a kid\")\n",
    "elif age < 20:\n",
    "    print (\"You are a teenager\")\n",
    "elif age < 65:\n",
    "    print (\"You are an adult\")\n",
    "else:\n",
    "    print (\"You are an elder\")\n"
   ]
  },
  {
   "cell_type": "markdown",
   "metadata": {},
   "source": [
    "4. process_data\n",
    "\n",
    "You have a two-dimensional list in the following format:\n",
    "\n",
    "data = [[2, 5], [3, 4], [8, 7]]\n",
    "\n",
    "Each sub-list contains two items, and each item in the sub-lists is an integer.\n",
    "\n",
    "Write a function process_data that processes each sub-list like so:\n",
    "[2, 5] --> 2 - 5 --> -3\n",
    "[3, 4] --> 3 - 4 --> -1\n",
    "[8, 7] --> 8 - 7 --> 1\n",
    "and then returns the product of all the processed sub-lists: -3 * -1 * 1 --> 3. d For input, you can trust that neither the main list nor the sublists will be empty."
   ]
  },
  {
   "cell_type": "code",
   "execution_count": 39,
   "metadata": {},
   "outputs": [
    {
     "name": "stdout",
     "output_type": "stream",
     "text": [
      "3\n"
     ]
    }
   ],
   "source": [
    "data = [[2, 5], [3, 4], [8, 7]]\n",
    "def process_data(data):\n",
    "    process = 1\n",
    "    for x in data:\n",
    "        process *= x[0]-x[1]\n",
    "    return process\n",
    "\n",
    "print(process_data(data))"
   ]
  },
  {
   "cell_type": "markdown",
   "metadata": {},
   "source": [
    "5. user_contacts\n",
    "\n",
    "You're putting together contact information for all the users of your website to ship them a small gift. You queried your database and got back a list of users, where each user is another list with up to two items: a string representing the user's name and their shipping zip code. Example data might look like:\n",
    "\n",
    "[[\"Grae Drake\", 98110], [\"Bethany Kok\"], [\"Alex Nussbacher\", 94101], [\"Darrell Silver\", 11201]]\n",
    "\n",
    "Notice that one of the users above has a name but doesn't have a zip code.\n",
    "\n",
    "Write a function user_contacts that takes a two-dimensional list like the one above and returns a dictionary with an item for each user where the key is the user's name and the value is the user's zip code. If your data doesn't include a zip code then the value should be None.\n",
    "\n",
    "For example, using the input above, user_contacts would return this dictionary:\n",
    "\n",
    "{\n",
    "    \"Grae Drake\": 98110,\n",
    "    \"Bethany Kok\": None,\n",
    "    \"Alex Nussbacher\": 94101,\n",
    "    \"Darrell Silver\": 11201,    \n",
    "}\n",
    "​\n",
    "You don't have to worry about leading zeros in zip codes.\n"
   ]
  },
  {
   "cell_type": "code",
   "execution_count": 40,
   "metadata": {},
   "outputs": [
    {
     "name": "stdout",
     "output_type": "stream",
     "text": [
      "{'Grae Drake': 98110, 'Bethany Kok': None, 'Alex Nussbacher': 94101, 'Darrell Silver': 11201}\n"
     ]
    }
   ],
   "source": [
    "db = [[\"Grae Drake\", 98110], [\"Bethany Kok\"], [\"Alex Nussbacher\", 94101], [\"Darrell Silver\", 11201]]\n",
    "def user_contacts(db):\n",
    "    return {i[0]:(i[1] if len(i) == 2 else None) for i in db}\n",
    "print(user_contacts(db))\n",
    "\n",
    "\n"
   ]
  },
  {
   "cell_type": "code",
   "execution_count": null,
   "metadata": {},
   "outputs": [],
   "source": []
  }
 ],
 "metadata": {
  "interpreter": {
   "hash": "aee8b7b246df8f9039afb4144a1f6fd8d2ca17a180786b69acc140d282b71a49"
  },
  "kernelspec": {
   "display_name": "Python 3.10.4 64-bit",
   "language": "python",
   "name": "python3"
  },
  "language_info": {
   "codemirror_mode": {
    "name": "ipython",
    "version": 3
   },
   "file_extension": ".py",
   "mimetype": "text/x-python",
   "name": "python",
   "nbconvert_exporter": "python",
   "pygments_lexer": "ipython3",
   "version": "3.10.4"
  },
  "orig_nbformat": 4
 },
 "nbformat": 4,
 "nbformat_minor": 2
}
