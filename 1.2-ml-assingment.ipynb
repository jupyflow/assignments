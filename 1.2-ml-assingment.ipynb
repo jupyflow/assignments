{
 "cells": [
  {
   "cell_type": "code",
   "execution_count": 1,
   "metadata": {},
   "outputs": [],
   "source": [
    "# Step 1. Loading Dataset\n",
    "# Load the Prima Indians Onset of Diabates dataset. It is a standard machine learning dataset available for free download from the UCI Machine Learning repository. It describes patient medical record data for Pima Indians and whether they had an onset of diabetes within five years. It is a binary classification problem (onset of diabetes as 1 or not as 0)\n",
    "\n",
    "# NTP: Number of times pregnant.\n",
    "# PGC: Plasma glucose concentration a 2 hours in an oral glucose tolerance test. 3. Diastolic blood pressure (mm Hg).\n",
    "# TSFT: Triceps skin fold thickness (mm).\n",
    "# 2hSI: 2-Hour serum insulin (mu U/ml).\n",
    "# BMI: Body mass index.\n",
    "# DPF: Diabetes pedigree function.\n",
    "# Age: Age (years).\n",
    "# OnDiab: Class, onset of diabetes within five years.\n",
    "# Set the dataset columns names to ['NTP', 'PGC','DBP','TSFT','2hSI','BMI','DPF','Age','OnDiab'].\n",
    "# Print the size of the data set.\n",
    "# Print the first 10 observations of your data set"
   ]
  },
  {
   "cell_type": "code",
   "execution_count": 2,
   "metadata": {},
   "outputs": [
    {
     "name": "stdout",
     "output_type": "stream",
     "text": [
      "(767, 9)\n"
     ]
    }
   ],
   "source": [
    "import pandas as pd\n",
    "dataset = pd.read_csv('diabetes.csv')\n",
    "dataset.columns = ['NTP', 'PGC','DBP','TSFT','2hSI','BMI','DPF','Age','OnDiab']\n",
    "print(dataset.shape)"
   ]
  },
  {
   "cell_type": "code",
   "execution_count": 3,
   "metadata": {},
   "outputs": [
    {
     "name": "stdout",
     "output_type": "stream",
     "text": [
      "   NTP  PGC  DBP  TSFT  2hSI   BMI    DPF  Age  OnDiab\n",
      "0    1   85   66    29     0  26.6  0.351   31       0\n",
      "1    8  183   64     0     0  23.3  0.672   32       1\n",
      "2    1   89   66    23    94  28.1  0.167   21       0\n",
      "3    0  137   40    35   168  43.1  2.288   33       1\n",
      "4    5  116   74     0     0  25.6  0.201   30       0\n",
      "5    3   78   50    32    88  31.0  0.248   26       1\n",
      "6   10  115    0     0     0  35.3  0.134   29       0\n",
      "7    2  197   70    45   543  30.5  0.158   53       1\n",
      "8    8  125   96     0     0   0.0  0.232   54       1\n",
      "9    4  110   92     0     0  37.6  0.191   30       0\n"
     ]
    }
   ],
   "source": [
    "# Print the first 10 observations of your data set\n",
    "print(dataset.head(10))"
   ]
  },
  {
   "cell_type": "code",
   "execution_count": 4,
   "metadata": {},
   "outputs": [],
   "source": [
    "# Step 2: Data type and description for each attribute\n",
    "# Print the data type for each attribute using dtypes method of a pandas data frame\n",
    "# Descriptive statistics can give you great insight into the properties of each attribute. Often you can create more summaries than you have time to review. The describe() function on the Pandas DataFrame lists 8 statistical properties of each attribute. They are: Count, Mean, Standard Deviation, Minimum Value, 25th Percentile, 50th Percentile (Median), 75th Percentile, Maximum Value.\n",
    "# On classication problems you need to know how balanced the class values are. Highly imbalanced problems (a lot more observations for one class than another) are common and may need special handling in the data preparation stage of your project. You can quickly get an idea of the distribution of the OnDiab attribute in Pandas. Grup your data by OnDiab attribute and use the size method to count the number of different values of class attribute.\n"
   ]
  },
  {
   "cell_type": "code",
   "execution_count": 5,
   "metadata": {},
   "outputs": [
    {
     "name": "stdout",
     "output_type": "stream",
     "text": [
      "NTP         int64\n",
      "PGC         int64\n",
      "DBP         int64\n",
      "TSFT        int64\n",
      "2hSI        int64\n",
      "BMI       float64\n",
      "DPF       float64\n",
      "Age         int64\n",
      "OnDiab      int64\n",
      "dtype: object\n"
     ]
    }
   ],
   "source": [
    "dtypes = dataset.dtypes\n",
    "print(dtypes)"
   ]
  },
  {
   "cell_type": "code",
   "execution_count": 6,
   "metadata": {},
   "outputs": [
    {
     "name": "stdout",
     "output_type": "stream",
     "text": [
      "              NTP         PGC         DBP        TSFT        2hSI         BMI  \\\n",
      "count  767.000000  767.000000  767.000000  767.000000  767.000000  767.000000   \n",
      "mean     3.842243  120.859192   69.101695   20.517601   79.903520   31.990482   \n",
      "std      3.370877   31.978468   19.368155   15.954059  115.283105    7.889091   \n",
      "min      0.000000    0.000000    0.000000    0.000000    0.000000    0.000000   \n",
      "25%      1.000000   99.000000   62.000000    0.000000    0.000000   27.300000   \n",
      "50%      3.000000  117.000000   72.000000   23.000000   32.000000   32.000000   \n",
      "75%      6.000000  140.000000   80.000000   32.000000  127.500000   36.600000   \n",
      "max     17.000000  199.000000  122.000000   99.000000  846.000000   67.100000   \n",
      "\n",
      "              DPF         Age      OnDiab  \n",
      "count  767.000000  767.000000  767.000000  \n",
      "mean     0.471674   33.219035    0.348110  \n",
      "std      0.331497   11.752296    0.476682  \n",
      "min      0.078000   21.000000    0.000000  \n",
      "25%      0.243500   24.000000    0.000000  \n",
      "50%      0.371000   29.000000    0.000000  \n",
      "75%      0.625000   41.000000    1.000000  \n",
      "max      2.420000   81.000000    1.000000  \n"
     ]
    }
   ],
   "source": [
    "# describe the dataset\n",
    "print(dataset.describe())"
   ]
  },
  {
   "cell_type": "code",
   "execution_count": 7,
   "metadata": {},
   "outputs": [
    {
     "name": "stdout",
     "output_type": "stream",
     "text": [
      "OnDiab\n",
      "0    500\n",
      "1    267\n",
      "dtype: int64\n"
     ]
    }
   ],
   "source": [
    "# group by OnDiab attribute and use the size method to count the number of different values of class attribute\n",
    "print(dataset.groupby('OnDiab').size())"
   ]
  },
  {
   "cell_type": "code",
   "execution_count": 9,
   "metadata": {},
   "outputs": [
    {
     "data": {
      "image/png": "[encoded data removed]",
      "text/plain": [
       "<Figure size 432x288 with 9 Axes>"
      ]
     },
     "metadata": {
      "needs_background": "light"
     },
     "output_type": "display_data"
    }
   ],
   "source": [
    "# Step 3: Draw the histogram of your data attributes.\n",
    "# A fast way to get an idea of the distribution of each attribute is to look at histograms. Histograms group data into bins and provide you a count of the number of observations in each bin. From the shape of the bins you can quickly get a feeling for whether an attribute is Gaussian, skewed or even has an exponential distribution. It can also help you see possible outliers.\n",
    "\n",
    "# Use hist() method of pandas data frame to plot the histograms.\n",
    "dataset.hist();"
   ]
  },
  {
   "cell_type": "code",
   "execution_count": 10,
   "metadata": {},
   "outputs": [],
   "source": [
    "# Step 4: Running a Classifier\n",
    "# Separate your dataset into feature set X and target variable y. Your target variable is OnDiab.\n",
    "# Split your dataset into train and test datasets, keep the test dataset size as 0.25 using test_size parameter of train_test_split. Set the random seed top 7 using random_state parameter of train_test_split. Make a stratified split.\n",
    "# Train KNearestNeighbor classifer on your train dataset and print the score on the the test dataset. Set number of neighbors to 5.\n"
   ]
  },
  {
   "cell_type": "code",
   "execution_count": 11,
   "metadata": {},
   "outputs": [],
   "source": [
    "X = dataset.drop('OnDiab', axis=1)\n",
    "y = dataset['OnDiab']"
   ]
  },
  {
   "cell_type": "code",
   "execution_count": 12,
   "metadata": {},
   "outputs": [],
   "source": [
    "from sklearn.model_selection import train_test_split\n",
    "X_train, X_test, y_train, y_test = train_test_split(X, y, test_size=0.25, random_state=7, stratify=y)"
   ]
  },
  {
   "cell_type": "code",
   "execution_count": 14,
   "metadata": {},
   "outputs": [
    {
     "name": "stdout",
     "output_type": "stream",
     "text": [
      "Test:  0.7135416666666666\n"
     ]
    }
   ],
   "source": [
    "from sklearn.neighbors import KNeighborsClassifier\n",
    "knn = KNeighborsClassifier(n_neighbors=5).fit(X_train, y_train)\n",
    "print('Test: ', knn.score(X_test, y_test))"
   ]
  },
  {
   "cell_type": "code",
   "execution_count": 15,
   "metadata": {},
   "outputs": [],
   "source": [
    "# Step 5 : Grid Search\n",
    "# Import GridSearchCV from sklearn.model_selection\n",
    "# Split your data into train and test datasets\n",
    "# For neighbors=1 to 30, compute GridSearchCV for train dataset with kfold=10.\n",
    "# Print the best cross validation score\n",
    "# Print the best parameter\n",
    "# Print the test score\n"
   ]
  },
  {
   "cell_type": "code",
   "execution_count": 18,
   "metadata": {},
   "outputs": [
    {
     "name": "stdout",
     "output_type": "stream",
     "text": [
      "Best cross validation score:  0.7267695099818512\n",
      "Best parameter:  {'n_neighbors': 29}\n",
      "Test score:  0.765625\n"
     ]
    }
   ],
   "source": [
    "from sklearn.model_selection import GridSearchCV\n",
    "import numpy as np\n",
    "\n",
    "param_grid = {'n_neighbors': np.arange(1, 30, 2)}\n",
    "grid = GridSearchCV(KNeighborsClassifier(), param_grid, cv=10,return_train_score=True)\n",
    "grid.fit(X_train, y_train)\n",
    "print('Best cross validation score: ', grid.best_score_)\n",
    "print('Best parameter: ', grid.best_params_)\n",
    "print('Test score: ', grid.score(X_test, y_test))"
   ]
  },
  {
   "cell_type": "code",
   "execution_count": null,
   "metadata": {},
   "outputs": [],
   "source": []
  }
 ],
 "metadata": {
  "kernelspec": {
   "display_name": "Python 3.10.4 64-bit",
   "language": "python",
   "name": "python3"
  },
  "language_info": {
   "codemirror_mode": {
    "name": "ipython",
    "version": 3
   },
   "file_extension": ".py",
   "mimetype": "text/x-python",
   "name": "python",
   "nbconvert_exporter": "python",
   "pygments_lexer": "ipython3",
   "version": "3.10.4"
  },
  "orig_nbformat": 4,
  "vscode": {
   "interpreter": {
    "hash": "aee8b7b246df8f9039afb4144a1f6fd8d2ca17a180786b69acc140d282b71a49"
   }
  }
 },
 "nbformat": 4,
 "nbformat_minor": 2
}
