{
 "cells": [
  {
   "cell_type": "code",
   "execution_count": 1,
   "id": "66de6098",
   "metadata": {},
   "outputs": [
    {
     "name": "stdout",
     "output_type": "stream",
     "text": [
      "1.20.3\n"
     ]
    }
   ],
   "source": [
    "import numpy as np\n",
    "print(np.__version__)"
   ]
  },
  {
   "cell_type": "markdown",
   "id": "8ccbed86",
   "metadata": {},
   "source": [
    "# 1\n"
   ]
  },
  {
   "cell_type": "markdown",
   "id": "d7afdc37",
   "metadata": {},
   "source": [
    "1. Write a NumPy program to convert a list of numeric value into a one-dimensional NumPy array."
   ]
  },
  {
   "cell_type": "code",
   "execution_count": 2,
   "id": "dd94e8f9",
   "metadata": {},
   "outputs": [
    {
     "name": "stdout",
     "output_type": "stream",
     "text": [
      "[12.23, 13.32, 100, 36.32]\n",
      "[ 12.23  13.32 100.    36.32]\n"
     ]
    },
    {
     "data": {
      "text/plain": [
       "(4,)"
      ]
     },
     "execution_count": 2,
     "metadata": {},
     "output_type": "execute_result"
    }
   ],
   "source": [
    "alist = [12.23, 13.32, 100, 36.32]\n",
    "print(alist)\n",
    "arraylist = np.array(alist)\n",
    "print(arraylist)\n",
    "\n",
    "arraylist.shape"
   ]
  },
  {
   "cell_type": "markdown",
   "id": "2f679223",
   "metadata": {},
   "source": [
    "# 2"
   ]
  },
  {
   "cell_type": "markdown",
   "id": "6661d815",
   "metadata": {},
   "source": [
    "2. Write a NumPy program to create a 3x3 matrix with values ranging from 2 to 10.\n"
   ]
  },
  {
   "cell_type": "code",
   "execution_count": 3,
   "id": "dd51b20b",
   "metadata": {},
   "outputs": [
    {
     "name": "stdout",
     "output_type": "stream",
     "text": [
      "[[ 2  3  4]\n",
      " [ 5  6  7]\n",
      " [ 8  9 10]]\n"
     ]
    }
   ],
   "source": [
    "numberlist = np.arange(2,11).reshape([3,3])\n",
    "print(numberlist)\n"
   ]
  },
  {
   "cell_type": "markdown",
   "id": "71a09df0",
   "metadata": {},
   "source": [
    "# 3"
   ]
  },
  {
   "cell_type": "markdown",
   "id": "87a04a36",
   "metadata": {},
   "source": [
    "3. Write a NumPy program to create a null vector of size 10 and update sixth value to 11."
   ]
  },
  {
   "cell_type": "code",
   "execution_count": 4,
   "id": "3c766684",
   "metadata": {},
   "outputs": [
    {
     "name": "stdout",
     "output_type": "stream",
     "text": [
      "[0. 0. 0. 0. 0. 0. 0. 0. 0. 0.]\n",
      "[ 0.  0.  0.  0.  0. 11.  0.  0.  0.  0.]\n"
     ]
    }
   ],
   "source": [
    "arrzeros = np.zeros(10)\n",
    "print(arrzeros)\n",
    "arrzeros[5]=11\n",
    "print(arrzeros)"
   ]
  },
  {
   "cell_type": "markdown",
   "id": "5fd14e38",
   "metadata": {},
   "source": [
    "# 4\n"
   ]
  },
  {
   "cell_type": "markdown",
   "id": "ae905344",
   "metadata": {},
   "source": [
    "4. Write a NumPy program to create an array with values ranging from 12 to 38."
   ]
  },
  {
   "cell_type": "code",
   "execution_count": 5,
   "id": "01b796b6",
   "metadata": {},
   "outputs": [
    {
     "name": "stdout",
     "output_type": "stream",
     "text": [
      "[12 13 14 15 16 17 18 19 20 21 22 23 24 25 26 27 28 29 30 31 32 33 34 35\n",
      " 36 37]\n"
     ]
    }
   ],
   "source": [
    "rangeexample = np.arange(12,38)\n",
    "print(rangeexample)"
   ]
  },
  {
   "cell_type": "markdown",
   "id": "43b455e6",
   "metadata": {},
   "source": [
    "# 5\n"
   ]
  },
  {
   "cell_type": "markdown",
   "id": "3cb8de4d",
   "metadata": {},
   "source": [
    "5. Write a NumPy program to reverse an array (first element becomes last)."
   ]
  },
  {
   "cell_type": "code",
   "execution_count": 6,
   "id": "5f048b72",
   "metadata": {},
   "outputs": [
    {
     "name": "stdout",
     "output_type": "stream",
     "text": [
      "[12 13 14 15 16 17 18 19 20]\n",
      "[20 19 18 17 16 15 14 13 12]\n"
     ]
    }
   ],
   "source": [
    "orgarray = np.arange(12,21)\n",
    "print(orgarray)\n",
    "revarray = orgarray[::-1]\n",
    "print(revarray)"
   ]
  },
  {
   "cell_type": "markdown",
   "id": "bceefd03",
   "metadata": {},
   "source": [
    "# 6"
   ]
  },
  {
   "cell_type": "markdown",
   "id": "68272d44",
   "metadata": {},
   "source": [
    "6. Write a NumPy program to convert an array to a float type."
   ]
  },
  {
   "cell_type": "code",
   "execution_count": 7,
   "id": "88971686",
   "metadata": {},
   "outputs": [
    {
     "name": "stdout",
     "output_type": "stream",
     "text": [
      "[1 2 3 4]\n",
      "[1. 2. 3. 4.]\n"
     ]
    }
   ],
   "source": [
    "orgarray = [1, 2, 3, 4]\n",
    "orgarray = np.array(orgarray)\n",
    "print(orgarray)\n",
    "convarray = np.asfarray(orgarray)\n",
    "print(convarray)"
   ]
  },
  {
   "cell_type": "markdown",
   "id": "271ced67",
   "metadata": {},
   "source": [
    "# 7"
   ]
  },
  {
   "cell_type": "markdown",
   "id": "234c4375",
   "metadata": {},
   "source": [
    "7. Write a NumPy program to create a 2d array with 1 on the border and 0 inside."
   ]
  },
  {
   "cell_type": "code",
   "execution_count": 8,
   "id": "a266bab5",
   "metadata": {},
   "outputs": [
    {
     "name": "stdout",
     "output_type": "stream",
     "text": [
      "[[1. 1. 1. 1. 1.]\n",
      " [1. 1. 1. 1. 1.]\n",
      " [1. 1. 1. 1. 1.]\n",
      " [1. 1. 1. 1. 1.]\n",
      " [1. 1. 1. 1. 1.]]\n",
      "[[1. 1. 1.]\n",
      " [1. 1. 1.]\n",
      " [1. 1. 1.]]\n",
      "[[1. 1. 1. 1. 1.]\n",
      " [1. 0. 0. 0. 1.]\n",
      " [1. 0. 0. 0. 1.]\n",
      " [1. 0. 0. 0. 1.]\n",
      " [1. 1. 1. 1. 1.]]\n"
     ]
    }
   ],
   "source": [
    "arrayex = np.ones((5,5))\n",
    "print(arrayex)\n",
    "arraynew = arrayex[1:-1, 1:-1]\n",
    "print(arraynew)\n",
    "arrayex[1:-1, 1:-1]=0\n",
    "print(arrayex)"
   ]
  },
  {
   "cell_type": "markdown",
   "id": "db194d17",
   "metadata": {},
   "source": [
    "# 8"
   ]
  },
  {
   "cell_type": "markdown",
   "id": "0f8ba74c",
   "metadata": {},
   "source": [
    "8. Write a NumPy program to add a border (filled with 0's) around an existing array."
   ]
  },
  {
   "cell_type": "code",
   "execution_count": 9,
   "id": "d28efe30",
   "metadata": {},
   "outputs": [
    {
     "name": "stdout",
     "output_type": "stream",
     "text": [
      "[[1. 1. 1.]\n",
      " [1. 1. 1.]\n",
      " [1. 1. 1.]]\n",
      "[[0. 0. 0. 0. 0.]\n",
      " [0. 0. 0. 0. 0.]\n",
      " [0. 0. 0. 0. 0.]\n",
      " [0. 0. 0. 0. 0.]\n",
      " [0. 0. 0. 0. 0.]]\n",
      "[[0. 0. 0. 0. 0.]\n",
      " [0. 1. 1. 1. 0.]\n",
      " [0. 1. 1. 1. 0.]\n",
      " [0. 1. 1. 1. 0.]\n",
      " [0. 0. 0. 0. 0.]]\n",
      "[[1. 1. 1.]\n",
      " [1. 1. 1.]\n",
      " [1. 1. 1.]]\n",
      "[[0. 0. 0. 0. 0.]\n",
      " [0. 1. 1. 1. 0.]\n",
      " [0. 1. 1. 1. 0.]\n",
      " [0. 1. 1. 1. 0.]\n",
      " [0. 0. 0. 0. 0.]]\n"
     ]
    }
   ],
   "source": [
    "myarray = np.ones((3,3))\n",
    "print(myarray)\n",
    "myarray2 = np.zeros((myarray.shape[0]+2, myarray.shape[1]+2))\n",
    "print(myarray2)\n",
    "myarray2[1:-1, 1:-1]=myarray\n",
    "print(myarray2)\n",
    "\n",
    "#with pad\n",
    "x = np.ones((3,3))\n",
    "print(x)\n",
    "z = np.pad(x, pad_width=1, mode='constant', constant_values=0)\n",
    "print(z)"
   ]
  },
  {
   "cell_type": "markdown",
   "id": "972907eb",
   "metadata": {},
   "source": [
    "# 9"
   ]
  },
  {
   "cell_type": "markdown",
   "id": "6d745928",
   "metadata": {},
   "source": [
    "9. Write a NumPy program to create a 8x8 matrix and fill it with a checkerboard pattern."
   ]
  },
  {
   "cell_type": "code",
   "execution_count": 10,
   "id": "cf692ee4",
   "metadata": {},
   "outputs": [
    {
     "name": "stdout",
     "output_type": "stream",
     "text": [
      "[[0. 1. 0. 1. 0. 1. 0. 1.]\n",
      " [1. 0. 1. 0. 1. 0. 1. 0.]\n",
      " [0. 1. 0. 1. 0. 1. 0. 1.]\n",
      " [1. 0. 1. 0. 1. 0. 1. 0.]\n",
      " [0. 1. 0. 1. 0. 1. 0. 1.]\n",
      " [1. 0. 1. 0. 1. 0. 1. 0.]\n",
      " [0. 1. 0. 1. 0. 1. 0. 1.]\n",
      " [1. 0. 1. 0. 1. 0. 1. 0.]]\n"
     ]
    }
   ],
   "source": [
    "myarray = np.zeros((8,8))\n",
    "myarray[1::2, ::2]=1\n",
    "myarray[::2, 1::2]=1\n",
    "print(myarray)"
   ]
  },
  {
   "cell_type": "markdown",
   "id": "1a0e6f34",
   "metadata": {},
   "source": [
    "# 10"
   ]
  },
  {
   "cell_type": "markdown",
   "id": "3e46ea19",
   "metadata": {},
   "source": [
    "10. Write a NumPy program to convert a list and tuple into arrays."
   ]
  },
  {
   "cell_type": "code",
   "execution_count": 11,
   "id": "7cf082f7",
   "metadata": {},
   "outputs": [
    {
     "name": "stdout",
     "output_type": "stream",
     "text": [
      "[1, 2, 3, 4, 5, 6, 7, 8]\n",
      "([8, 4, 6], [1, 2, 3])\n"
     ]
    },
    {
     "data": {
      "text/plain": [
       "array([[8, 4, 6],\n",
       "       [1, 2, 3]])"
      ]
     },
     "execution_count": 11,
     "metadata": {},
     "output_type": "execute_result"
    }
   ],
   "source": [
    "mylist = [1, 2, 3, 4, 5, 6, 7, 8]\n",
    "np.asarray(mylist)\n",
    "print(mylist)\n",
    "mytuple= ([8, 4, 6], [1, 2, 3])\n",
    "print(mytuple)\n",
    "np.asarray(mytuple)"
   ]
  },
  {
   "cell_type": "markdown",
   "id": "b1230cd5",
   "metadata": {},
   "source": [
    "# 11"
   ]
  },
  {
   "cell_type": "markdown",
   "id": "094406cb",
   "metadata": {},
   "source": [
    "11. Write a NumPy program to append values to the end of an array."
   ]
  },
  {
   "cell_type": "code",
   "execution_count": 12,
   "id": "ca0a96f0",
   "metadata": {},
   "outputs": [
    {
     "name": "stdout",
     "output_type": "stream",
     "text": [
      "[10 20 30]\n",
      "[10 20 30 40 50 60 70 80 90]\n"
     ]
    }
   ],
   "source": [
    "mylist = [10, 20, 30]\n",
    "origarray = np.array(mylist)\n",
    "print(origarray)\n",
    "neworigarray = np.append(mylist, [[40, 50, 60], [70, 80, 90]])\n",
    "print(neworigarray)"
   ]
  },
  {
   "cell_type": "markdown",
   "id": "269ba672",
   "metadata": {},
   "source": [
    "# 12"
   ]
  },
  {
   "cell_type": "markdown",
   "id": "053b9591",
   "metadata": {},
   "source": [
    "12.Write a NumPy program to convert the values of Centigrade degrees into Fahrenheit degrees. Centigrade values are stored into a NumPy array."
   ]
  },
  {
   "cell_type": "code",
   "execution_count": 13,
   "id": "914d5fb0",
   "metadata": {},
   "outputs": [
    {
     "name": "stdout",
     "output_type": "stream",
     "text": [
      "[ 0.   12.   45.21 34.   99.91]\n",
      "[-17.77777778 -11.11111111   7.33888889   1.11111111  37.72777778]\n"
     ]
    }
   ],
   "source": [
    "faharray = [0, 12, 45.21 ,34, 99.91]\n",
    "faharray = np.array(faharray)\n",
    "print(faharray)\n",
    "centarray = [(5*(faharray[0]-32))/9, (5*(faharray[1]-32))/9, (5*(faharray[2]-32))/9, (5*(faharray[3]-32))/9,(5*(faharray[4]-32))/9 ]\n",
    "centarray = np.array(centarray)\n",
    "print(centarray)"
   ]
  },
  {
   "cell_type": "markdown",
   "id": "b654a751",
   "metadata": {},
   "source": [
    "# 13"
   ]
  },
  {
   "cell_type": "markdown",
   "id": "92c7c56e",
   "metadata": {},
   "source": [
    "13.Write a NumPy program to find the number of elements of an array, length of one array element in bytes and total bytes consumed by the elements"
   ]
  },
  {
   "cell_type": "code",
   "execution_count": 14,
   "id": "ac1f9f30",
   "metadata": {},
   "outputs": [
    {
     "name": "stdout",
     "output_type": "stream",
     "text": [
      "3\n",
      "8\n",
      "24\n"
     ]
    }
   ],
   "source": [
    "x = [1, 2, 3]\n",
    "\n",
    "x = np.array(x)\n",
    "print(x.size)\n",
    "print(x.itemsize)\n",
    "print(x.nbytes)\n"
   ]
  },
  {
   "cell_type": "markdown",
   "id": "d582a4b6",
   "metadata": {},
   "source": [
    "# 14"
   ]
  },
  {
   "cell_type": "markdown",
   "id": "1d511a89",
   "metadata": {},
   "source": [
    "14. Write a NumPy program to find common values between two arrays."
   ]
  },
  {
   "cell_type": "code",
   "execution_count": 15,
   "id": "8509ecaa",
   "metadata": {},
   "outputs": [
    {
     "name": "stdout",
     "output_type": "stream",
     "text": [
      "Array1:  [ 0 10 20 40 60]\n",
      "Array2:  [10 30 40]\n",
      "Common values between two arrays: \n",
      "[10 40]\n"
     ]
    }
   ],
   "source": [
    "array1 = [0, 10, 20, 40, 60]\n",
    "array2 = [10, 30, 40]\n",
    "array1 = np.array(array1)\n",
    "array2 = np.array(array2)\n",
    "print('Array1: ', array1)\n",
    "print('Array2: ', array2)\n",
    "print('Common values between two arrays: ')\n",
    "print(np.intersect1d(array1, array2))"
   ]
  },
  {
   "cell_type": "markdown",
   "id": "aaef1717",
   "metadata": {},
   "source": [
    "# 15"
   ]
  },
  {
   "cell_type": "markdown",
   "id": "8cdea469",
   "metadata": {},
   "source": [
    "15. Write a NumPy program to get the unique elements of an array."
   ]
  },
  {
   "cell_type": "code",
   "execution_count": 16,
   "id": "890884c1",
   "metadata": {},
   "outputs": [
    {
     "name": "stdout",
     "output_type": "stream",
     "text": [
      "Original array:  [10 10 20 20 30 30]\n",
      "Unique elements of the above array: \n",
      "[10 20 30]\n",
      "Original array:\n",
      " [[1 1]\n",
      " [2 3]]\n",
      "Unique elements of the above array: \n",
      "[1 2 3]\n"
     ]
    }
   ],
   "source": [
    "originalarray = np.array([10, 10, 20, 20, 30, 30])\n",
    "print('Original array: ', originalarray)\n",
    "print('Unique elements of the above array: ')\n",
    "print(np.unique(originalarray))\n",
    "originalarray = np.array([[1, 1], [2, 3]])\n",
    "print('Original array:\\n', originalarray)\n",
    "print('Unique elements of the above array: ')\n",
    "print(np.unique(originalarray))\n"
   ]
  },
  {
   "cell_type": "markdown",
   "id": "ca4028b9",
   "metadata": {},
   "source": [
    "# 16"
   ]
  },
  {
   "cell_type": "markdown",
   "id": "df02c537",
   "metadata": {},
   "source": [
    "16. Write a NumPy program to find the set difference of two arrays. The set difference will return the sorted, unique values in array1 that are not in array2.\n"
   ]
  },
  {
   "cell_type": "code",
   "execution_count": 17,
   "id": "17531ba2",
   "metadata": {},
   "outputs": [
    {
     "name": "stdout",
     "output_type": "stream",
     "text": [
      "Array1:  [ 0 10 20 40 60 80]\n",
      "Array2:  [10, 30, 40, 50, 70]\n",
      "Unique values in array1 that are not in array2: \n",
      "[ 0 20 60 80]\n"
     ]
    }
   ],
   "source": [
    "array1 = np.array([0, 10, 20, 40, 60, 80])\n",
    "print('Array1: ',array1)\n",
    "array2 = [10, 30, 40, 50, 70]\n",
    "print('Array2: ',array2)\n",
    "print('Unique values in array1 that are not in array2: ')\n",
    "print(np.setdiff1d(array1, array2))"
   ]
  },
  {
   "cell_type": "markdown",
   "id": "61308600",
   "metadata": {},
   "source": [
    "# 17"
   ]
  },
  {
   "cell_type": "markdown",
   "id": "71972b1b",
   "metadata": {},
   "source": [
    "17. Write a NumPy program to find the set exclusive-or of two arrays. Set exclusive-or will return the sorted, unique values that are in only one (not both) of the input arrays.\n"
   ]
  },
  {
   "cell_type": "code",
   "execution_count": 18,
   "id": "df10e33e",
   "metadata": {},
   "outputs": [
    {
     "name": "stdout",
     "output_type": "stream",
     "text": [
      "Array1:  [ 0 10 20 40 60 80]\n",
      "Array2:  [10, 30, 40, 50, 70]\n",
      "Unique values that are in only one (not both) of the input arrays: \n",
      "[ 0 20 30 50 60 70 80]\n"
     ]
    }
   ],
   "source": [
    "array1 = np.array([0, 10, 20, 40, 60, 80])\n",
    "print(\"Array1: \", array1)\n",
    "array2 = [10, 30, 40, 50, 70]\n",
    "print(\"Array2: \", array2)\n",
    "print(\"Unique values that are in only one (not both) of the input arrays: \")\n",
    "print(np.setxor1d(array1, array2))"
   ]
  },
  {
   "cell_type": "markdown",
   "id": "0eee8da7",
   "metadata": {},
   "source": [
    "# 18"
   ]
  },
  {
   "cell_type": "markdown",
   "id": "20c80878",
   "metadata": {},
   "source": [
    "18. Write a NumPy program to find the union of two arrays. Union will return the unique, sorted array of values that are in either of the two input arrays."
   ]
  },
  {
   "cell_type": "code",
   "execution_count": 19,
   "id": "d4a7ab10",
   "metadata": {},
   "outputs": [
    {
     "name": "stdout",
     "output_type": "stream",
     "text": [
      "Array1:  [ 0 10 20 40 60 80]\n",
      "Array2:  [10 30 40 50 70]\n",
      "Unique sorted array of values that are in either of the two input array s: \n",
      "[ 0 10 20 30 40 50 60 70 80]\n"
     ]
    }
   ],
   "source": [
    "array1 = np.array([0, 10, 20, 40, 60, 80])\n",
    "print('Array1: ', array1)\n",
    "array2 = np.array([10, 30, 40, 50, 70])\n",
    "print('Array2: ', array2)\n",
    "print('Unique sorted array of values that are in either of the two input array s: ')\n",
    "print(np.union1d(array1, array2))"
   ]
  },
  {
   "cell_type": "markdown",
   "id": "af69ad0d",
   "metadata": {},
   "source": [
    "# 19"
   ]
  },
  {
   "cell_type": "markdown",
   "id": "9117544e",
   "metadata": {},
   "source": [
    "19. Write a NumPy program to test whether all elements in an array evaluate to True. Note: 0 evaluates to False in python."
   ]
  },
  {
   "cell_type": "code",
   "execution_count": 20,
   "id": "7ee71a38",
   "metadata": {},
   "outputs": [
    {
     "name": "stdout",
     "output_type": "stream",
     "text": [
      "False\n",
      "True\n",
      "False\n",
      "True\n"
     ]
    }
   ],
   "source": [
    "print(np.all([[True,False],[True,True]]))\n",
    "print(np.all([[True,True],[True,True]]))\n",
    "print(np.all([10, 20, 0, -50]))\n",
    "print(np.all([10, 20, -50]))"
   ]
  },
  {
   "cell_type": "markdown",
   "id": "d090f51c",
   "metadata": {},
   "source": [
    "# 20"
   ]
  },
  {
   "cell_type": "markdown",
   "id": "74f8d82a",
   "metadata": {},
   "source": [
    "20. Write a NumPy program to find the indices of the maximum and minimum values along the given axis of an array."
   ]
  },
  {
   "cell_type": "code",
   "execution_count": 21,
   "id": "dd960852",
   "metadata": {},
   "outputs": [
    {
     "name": "stdout",
     "output_type": "stream",
     "text": [
      "Original array:  [1 2 3 4 5 6]\n",
      "Maximum Values:  5\n",
      "Minimum Values:  0\n"
     ]
    }
   ],
   "source": [
    "originalarray = np.array([1, 2, 3, 4, 5,6])\n",
    "print('Original array: ', originalarray)\n",
    "print('Maximum Values: ',np.argmax(originalarray))\n",
    "print('Minimum Values: ',np.argmin(originalarray))"
   ]
  },
  {
   "cell_type": "markdown",
   "id": "c2301aaf",
   "metadata": {},
   "source": [
    "# 21"
   ]
  },
  {
   "cell_type": "markdown",
   "id": "9e4c0496",
   "metadata": {},
   "source": [
    "21. Write a NumPy program to get the values and indices of the elements that are bigger than 10 in a given array."
   ]
  },
  {
   "cell_type": "code",
   "execution_count": 22,
   "id": "393d7979",
   "metadata": {},
   "outputs": [
    {
     "name": "stdout",
     "output_type": "stream",
     "text": [
      "Original array: \n",
      " [[ 0 10 20]\n",
      " [20 30 40]]\n",
      "Bigger than 10 = [20 20 30 40]\n",
      "Indices are  (array([0, 1, 1, 1]), array([2, 0, 1, 2]))\n"
     ]
    }
   ],
   "source": [
    "orgarray = np.array([[0, 10, 20], [20, 30, 40]])\n",
    "print('Original array: \\n', orgarray)\n",
    "print('Bigger than 10 =', orgarray[orgarray > 10])\n",
    "print('Indices are ', np.nonzero(orgarray > 10))\n"
   ]
  },
  {
   "cell_type": "markdown",
   "id": "3821ad4a",
   "metadata": {},
   "source": [
    "# 22"
   ]
  },
  {
   "cell_type": "markdown",
   "id": "1e53e1c9",
   "metadata": {},
   "source": [
    "22. Write a NumPy program to create an array of ones of size 2 and an array of zeros of size 2."
   ]
  },
  {
   "cell_type": "code",
   "execution_count": 23,
   "id": "2a602a29",
   "metadata": {},
   "outputs": [
    {
     "name": "stdout",
     "output_type": "stream",
     "text": [
      "Zeros: [[0. 0.]]\n",
      "Ones: [[1. 1.]]\n"
     ]
    }
   ],
   "source": [
    "arrayzeros = np.zeros((1,2))\n",
    "arrayones = np.ones((1,2))\n",
    "print(\"Zeros:\", arrayzeros)\n",
    "print(\"Ones:\", arrayones)"
   ]
  },
  {
   "cell_type": "markdown",
   "id": "1215c623",
   "metadata": {},
   "source": [
    "# 23"
   ]
  },
  {
   "cell_type": "markdown",
   "id": "9a16d336",
   "metadata": {},
   "source": [
    "23. Write a NumPy program to create a contiguous flattened array."
   ]
  },
  {
   "cell_type": "code",
   "execution_count": 24,
   "id": "569f862f",
   "metadata": {},
   "outputs": [
    {
     "name": "stdout",
     "output_type": "stream",
     "text": [
      "Original array:\n",
      " [[10 20 30]\n",
      " [20 40 50]]\n",
      "New flattened array:  [10 20 30 20 40 50]\n"
     ]
    }
   ],
   "source": [
    "x = np.array([[10, 20, 30], [20, 40, 50]])\n",
    "print('Original array:\\n', x)\n",
    "print('New flattened array: ', np.ravel(x))"
   ]
  },
  {
   "cell_type": "markdown",
   "id": "230fa991",
   "metadata": {},
   "source": [
    "# 24"
   ]
  },
  {
   "cell_type": "markdown",
   "id": "c6ae0185",
   "metadata": {},
   "source": [
    "24. Write a NumPy program to create a new shape to an array without changing its data."
   ]
  },
  {
   "cell_type": "code",
   "execution_count": 25,
   "id": "2020c9d1",
   "metadata": {},
   "outputs": [
    {
     "name": "stdout",
     "output_type": "stream",
     "text": [
      "Reshape 3x2:\n",
      " [[1 2]\n",
      " [3 4]\n",
      " [5 6]]\n",
      "Reshape 2x3:\n",
      " [[1 2 3]\n",
      " [4 5 6]]\n"
     ]
    }
   ],
   "source": [
    "x = np.array([1, 2, 3, 4, 5, 6])\n",
    "x = np.reshape(x,(3,2))\n",
    "print('Reshape 3x2:\\n', x)\n",
    "x = np.reshape(x,(2,3))\n",
    "print('Reshape 2x3:\\n', x)"
   ]
  },
  {
   "cell_type": "markdown",
   "id": "db9b9935",
   "metadata": {},
   "source": [
    "# 25"
   ]
  },
  {
   "cell_type": "markdown",
   "id": "0634907e",
   "metadata": {},
   "source": [
    "25. Write a NumPy program to change the data type of an array."
   ]
  },
  {
   "cell_type": "code",
   "execution_count": 26,
   "id": "fcc4af45",
   "metadata": {},
   "outputs": [
    {
     "name": "stdout",
     "output_type": "stream",
     "text": [
      "[[ 2  4  6]\n",
      " [ 6  8 10]]\n",
      "Data type of the array x is:  int64\n",
      "New Type:  float64\n",
      "[[ 2.  4.  6.]\n",
      " [ 6.  8. 10.]]\n"
     ]
    }
   ],
   "source": [
    "x = np.array([[2, 4, 6], [6, 8, 10]])\n",
    "print(x)\n",
    "print('Data type of the array x is: ', x.dtype)\n",
    "x = x.astype('float64')\n",
    "print('New Type: ', x.dtype)\n",
    "print(x)"
   ]
  },
  {
   "cell_type": "markdown",
   "id": "c221c981",
   "metadata": {},
   "source": [
    "# 26"
   ]
  },
  {
   "cell_type": "markdown",
   "id": "2eb43d14",
   "metadata": {},
   "source": [
    "26. Write a NumPy program to create a 1-D array of 20 element spaced evenly on a log scale between 2. and 5., exclusive."
   ]
  },
  {
   "cell_type": "code",
   "execution_count": 27,
   "id": "1736c345",
   "metadata": {},
   "outputs": [
    {
     "name": "stdout",
     "output_type": "stream",
     "text": [
      "[  100.           141.25375446   199.5262315    281.83829313\n",
      "   398.10717055   562.34132519   794.32823472  1122.0184543\n",
      "  1584.89319246  2238.72113857  3162.27766017  4466.83592151\n",
      "  6309.5734448   8912.50938134 12589.25411794 17782.79410039\n",
      " 25118.8643151  35481.33892336 50118.72336273 70794.57843841]\n"
     ]
    }
   ],
   "source": [
    "array =  np.logspace(2., 5., 20, endpoint=False)\n",
    "print(array)"
   ]
  },
  {
   "cell_type": "markdown",
   "id": "e9d77a9a",
   "metadata": {},
   "source": [
    "# 27"
   ]
  },
  {
   "cell_type": "markdown",
   "id": "aeba8261",
   "metadata": {},
   "source": [
    "27. Write a NumPy program to concatenate two 2-dimensional arrays. Sample arrays: ([[0, 1, 3], [5, 7, 9]], [[0, 2, 4], [6, 8, 10]]"
   ]
  },
  {
   "cell_type": "code",
   "execution_count": 28,
   "id": "ec07b244",
   "metadata": {},
   "outputs": [
    {
     "name": "stdout",
     "output_type": "stream",
     "text": [
      "[[ 0  1  3  0  2  4]\n",
      " [ 5  7  9  6  8 10]]\n"
     ]
    }
   ],
   "source": [
    "a = np.array([[0, 1, 3], [5, 7, 9]])\n",
    "b = np.array([[0, 2, 4], [6, 8, 10]])\n",
    "x = np.concatenate((a, b), 1)\n",
    "print(x)"
   ]
  },
  {
   "cell_type": "markdown",
   "id": "6fa9fd6f",
   "metadata": {},
   "source": [
    "# 28"
   ]
  },
  {
   "cell_type": "markdown",
   "id": "74000ec4",
   "metadata": {},
   "source": [
    "28. Write a Python program to split an array of 14 elements into 3 arrays, each of which has 2, 4, and 8 elements in the original order. Sample array: [ 1 2 3 4 5 6 7 8 9 10 11 12 13 14]"
   ]
  },
  {
   "cell_type": "code",
   "execution_count": 29,
   "id": "03944034",
   "metadata": {},
   "outputs": [
    {
     "name": "stdout",
     "output_type": "stream",
     "text": [
      "Original array:  [ 1  2  3  4  5  6  7  8  9 10 11 12 13 14]\n",
      "After splitting: \n",
      " [array([1, 2]), array([3, 4, 5, 6]), array([ 7,  8,  9, 10, 11, 12, 13, 14])]\n"
     ]
    }
   ],
   "source": [
    "originalarray = np.arange(1, 15)\n",
    "print('Original array: ', originalarray)\n",
    "originalarray = np.split(originalarray, [2,6])\n",
    "print('After splitting: \\n', originalarray)"
   ]
  },
  {
   "cell_type": "markdown",
   "id": "e4200254",
   "metadata": {},
   "source": [
    "# 29"
   ]
  },
  {
   "cell_type": "markdown",
   "id": "e7c39afc",
   "metadata": {},
   "source": [
    "29. Write a NumPy program to split of an array of shape 4x4 it into two arrays along the second axis. Sample array : [[ 0 1 2 3] [ 4 5 6 7] [ 8 9 10 11] [12 13 14 15]]"
   ]
  },
  {
   "cell_type": "code",
   "execution_count": 30,
   "id": "493d76ae",
   "metadata": {},
   "outputs": [
    {
     "name": "stdout",
     "output_type": "stream",
     "text": [
      "Sample array:\n",
      " [[ 0  1  2  3]\n",
      " [ 4  5  6  7]\n",
      " [ 8  9 10 11]\n",
      " [12 13 14 15]]\n",
      "After splitting horizontally:\n",
      " [array([[ 0,  1],\n",
      "       [ 4,  5],\n",
      "       [ 8,  9],\n",
      "       [12, 13]]), array([[ 2,  3],\n",
      "       [ 6,  7],\n",
      "       [10, 11],\n",
      "       [14, 15]]), array([], shape=(4, 0), dtype=int64)]\n"
     ]
    }
   ],
   "source": [
    "sample = np.arange(0,16)\n",
    "sample = sample.reshape((4, 4))\n",
    "print('Sample array:\\n', sample)\n",
    "sample = np.hsplit(sample, [2,6])\n",
    "print('After splitting horizontally:\\n', sample)"
   ]
  },
  {
   "cell_type": "markdown",
   "id": "cfa5dc61",
   "metadata": {},
   "source": [
    "# 30"
   ]
  },
  {
   "cell_type": "markdown",
   "id": "1cfc1585",
   "metadata": {},
   "source": [
    "30. Write a NumPy program to get the number of nonzero elements in an array. Original array:"
   ]
  },
  {
   "cell_type": "code",
   "execution_count": 31,
   "id": "ac12f8be",
   "metadata": {},
   "outputs": [
    {
     "name": "stdout",
     "output_type": "stream",
     "text": [
      "Original array:\n",
      " [[ 0 10 20]\n",
      " [20 30 40]]\n",
      "Number of non zero elements in the above array:\n",
      " 5\n"
     ]
    }
   ],
   "source": [
    "origarray = np.array([[0, 10, 20], [20, 30, 40]])\n",
    "print('Original array:\\n', origarray)\n",
    "origarray = np.count_nonzero(origarray)\n",
    "print('Number of non zero elements in the above array:\\n', origarray)"
   ]
  },
  {
   "cell_type": "markdown",
   "id": "2617ae28",
   "metadata": {},
   "source": [
    "# 31"
   ]
  },
  {
   "cell_type": "markdown",
   "id": "670e2f52",
   "metadata": {},
   "source": [
    "31. Write a NumPy program to add an extra column to a NumPy array."
   ]
  },
  {
   "cell_type": "code",
   "execution_count": 32,
   "id": "d0b8a72f",
   "metadata": {},
   "outputs": [
    {
     "name": "stdout",
     "output_type": "stream",
     "text": [
      "[[ 10  20  30 100]\n",
      " [ 40  50  60 200]]\n"
     ]
    }
   ],
   "source": [
    "x = np.array([[10, 20, 30], [40, 50, 60]])\n",
    "y = np.array([[100],[200]])\n",
    "z = np.append(x, y, axis=1)\n",
    "print(z)"
   ]
  },
  {
   "cell_type": "markdown",
   "id": "5ae9dc5c",
   "metadata": {},
   "source": [
    "# 32"
   ]
  },
  {
   "cell_type": "markdown",
   "id": "76f8ca54",
   "metadata": {},
   "source": [
    "32.Write a NumPy program to remove the negative values in a NumPy array with 0."
   ]
  },
  {
   "cell_type": "code",
   "execution_count": 33,
   "id": "1f89bb0f",
   "metadata": {},
   "outputs": [
    {
     "name": "stdout",
     "output_type": "stream",
     "text": [
      "[-1 -4  0  2  3  4  5 -6]\n",
      "[0 0 0 2 3 4 5 0]\n"
     ]
    }
   ],
   "source": [
    "sample = np.array([-1, -4, 0, 2, 3, 4, 5, -6])\n",
    "print(sample)\n",
    "sample[sample < 0] = 0\n",
    "print(sample)"
   ]
  },
  {
   "cell_type": "markdown",
   "id": "46a3244e",
   "metadata": {},
   "source": [
    "# 33"
   ]
  },
  {
   "cell_type": "markdown",
   "id": "4085b8e5",
   "metadata": {},
   "source": [
    "33. Write a NumPy program to remove all rows in a NumPy array that contain non-numeric values."
   ]
  },
  {
   "cell_type": "code",
   "execution_count": 34,
   "id": "cad09f3b",
   "metadata": {},
   "outputs": [
    {
     "name": "stdout",
     "output_type": "stream",
     "text": [
      "Array: \n",
      " [[ 1.  2.  3.]\n",
      " [ 4.  5. nan]\n",
      " [ 7.  8.  9.]\n",
      " [ 1.  0.  1.]]\n",
      "After remove:\n",
      " [[1. 2. 3.]\n",
      " [7. 8. 9.]\n",
      " [1. 0. 1.]]\n"
     ]
    }
   ],
   "source": [
    "arr = np.array([[1,2,3], [4,5,np.nan], [7,8,9], [True, False, True]])\n",
    "print('Array: \\n', arr)\n",
    "arr = arr[~np.isnan(arr).any(axis=1)]\n",
    "print('After remove:\\n', arr)"
   ]
  },
  {
   "cell_type": "markdown",
   "id": "dfbadb0e",
   "metadata": {},
   "source": [
    "# 34"
   ]
  },
  {
   "cell_type": "markdown",
   "id": "b0f2d112",
   "metadata": {},
   "source": [
    "34. Write a NumPy program to select indices satisfying multiple conditions in a NumPy array."
   ]
  },
  {
   "cell_type": "code",
   "execution_count": 35,
   "id": "6820434c",
   "metadata": {},
   "outputs": [
    {
     "name": "stdout",
     "output_type": "stream",
     "text": [
      "[ 97 101 105 111 117]\n",
      "['a' 'e' 'i' 'o' 'u']\n",
      "['e' 'i']\n"
     ]
    }
   ],
   "source": [
    "a = np.array([97, 101, 105, 111, 117])\n",
    "b = np.array(['a','e','i','o','u'])\n",
    "print(a)\n",
    "print(b)\n",
    "print(b[(100 < a) & (a < 110)])"
   ]
  },
  {
   "cell_type": "markdown",
   "id": "fe76fe6c",
   "metadata": {},
   "source": [
    "# 35"
   ]
  },
  {
   "cell_type": "markdown",
   "id": "5eb9bf9e",
   "metadata": {},
   "source": [
    "35. Write a NumPy program to count the frequency of unique values in numpy array."
   ]
  },
  {
   "cell_type": "code",
   "execution_count": 36,
   "id": "57ba379b",
   "metadata": {},
   "outputs": [
    {
     "name": "stdout",
     "output_type": "stream",
     "text": [
      "[10 10 20 10 20 20 20 30 30 50 40 40]\n",
      "Frequency of unique values of the array:\n",
      " [[10 20 30 40 50]\n",
      " [ 3  4  2  2  1]]\n"
     ]
    }
   ],
   "source": [
    "arr = np.array([10, 10, 20, 10, 20, 20, 20, 30, 30, 50, 40, 40])\n",
    "print(arr)\n",
    "unique, counts = np.unique(arr, return_counts = True)\n",
    "print('Frequency of unique values of the array:\\n', np.array((unique, counts)))"
   ]
  },
  {
   "cell_type": "markdown",
   "id": "c750bac5",
   "metadata": {},
   "source": [
    "# 36"
   ]
  },
  {
   "cell_type": "markdown",
   "id": "f60df9e5",
   "metadata": {},
   "source": [
    "36. Write a NumPy program to access last two columns of a multidimensional columns.\n"
   ]
  },
  {
   "cell_type": "code",
   "execution_count": 37,
   "id": "0fe63e87",
   "metadata": {},
   "outputs": [
    {
     "name": "stdout",
     "output_type": "stream",
     "text": [
      "[[1 2 3]\n",
      " [4 5 6]\n",
      " [7 8 9]]\n",
      "[[2 3]\n",
      " [5 6]\n",
      " [8 9]]\n"
     ]
    }
   ],
   "source": [
    "arr = np.array([[1, 2, 3], [4, 5, 6], [7, 8, 9]])\n",
    "print(arr)\n",
    "x = arr[:,[1,2]]\n",
    "print(x)"
   ]
  },
  {
   "cell_type": "markdown",
   "id": "224d5171",
   "metadata": {},
   "source": [
    "# 37"
   ]
  },
  {
   "cell_type": "markdown",
   "id": "d547a5ce",
   "metadata": {},
   "source": [
    "37. Write a NumPy program to find indices of elements equal to zero in a NumPy array."
   ]
  },
  {
   "cell_type": "code",
   "execution_count": 38,
   "id": "0053b8fb",
   "metadata": {},
   "outputs": [
    {
     "name": "stdout",
     "output_type": "stream",
     "text": [
      "Original array:  [1 0 2 0 3 0 4 5 6 7 8]\n",
      "Indices of elements equal to zero:  [1 3 5]\n"
     ]
    }
   ],
   "source": [
    "arr = np.array([1, 0, 2, 0, 3, 0, 4, 5, 6, 7, 8])\n",
    "print('Original array: ', arr)\n",
    "print(\"Indices of elements equal to zero: \", np.where(arr == 0)[0])"
   ]
  },
  {
   "cell_type": "code",
   "execution_count": null,
   "id": "79d28107",
   "metadata": {},
   "outputs": [],
   "source": []
  }
 ],
 "metadata": {
  "kernelspec": {
   "display_name": "Python 3 (ipykernel)",
   "language": "python",
   "name": "python3"
  },
  "language_info": {
   "codemirror_mode": {
    "name": "ipython",
    "version": 3
   },
   "file_extension": ".py",
   "mimetype": "text/x-python",
   "name": "python",
   "nbconvert_exporter": "python",
   "pygments_lexer": "ipython3",
   "version": "3.9.7"
  }
 },
 "nbformat": 4,
 "nbformat_minor": 5
}
