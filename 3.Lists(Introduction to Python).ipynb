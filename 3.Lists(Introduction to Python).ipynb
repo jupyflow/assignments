{
 "cells": [
  {
   "cell_type": "markdown",
   "id": "8ecbc12f",
   "metadata": {},
   "source": [
    "# 1"
   ]
  },
  {
   "cell_type": "markdown",
   "id": "43125a3f",
   "metadata": {},
   "source": [
    "1- Write a code to compute the sum of the two lowest numbers and the two highest numbers in the following list."
   ]
  },
  {
   "cell_type": "markdown",
   "id": "8c1d5a14",
   "metadata": {},
   "source": [
    "my_list = [34, 56, 76, 45, 2, 12, 67, 98, 37, 54, 66]"
   ]
  },
  {
   "cell_type": "code",
   "execution_count": 1,
   "id": "d9bfde3b",
   "metadata": {},
   "outputs": [
    {
     "name": "stdout",
     "output_type": "stream",
     "text": [
      "the sum of the two lowest numbers and the two highest numbers: 188\n"
     ]
    }
   ],
   "source": [
    "my_list = [34, 56, 76, 45, 2, 12, 67, 98, 37, 54, 66]\n",
    "my_list.sort()\n",
    "#print(my_list)\n",
    "sumnumbers = sum(my_list[:2]) + sum(my_list[-2:])\n",
    "print(f'the sum of the two lowest numbers and the two highest numbers: {sumnumbers}')"
   ]
  },
  {
   "cell_type": "markdown",
   "id": "1fdf2420",
   "metadata": {},
   "source": [
    "# 2"
   ]
  },
  {
   "cell_type": "markdown",
   "id": "5d1f00f7",
   "metadata": {},
   "source": [
    "2- The following two lists contain student names and scores. Write a code that gets the name from the user and prints the score of that student.\n",
    "names = [\"David\", \"Michael\", \"John\", \"James\", \"Greg\", \"Mark\", \"William\", \"Richard\", \"Thomas\", \"Steven\", \"Mary\", \"Susan\", \"Maria\", \"Karen\", \"Lisa\", \"Linda\", \"Donna\", \"Patricia\", \"Debra\", \"Eric\"]\n",
    "scores = [99, 87, 78, 86, 68, 94, 76, 97, 56, 98, 76, 87, 79, 90, 73, 93, 82, 69, 97, 98]"
   ]
  },
  {
   "cell_type": "code",
   "execution_count": 2,
   "id": "01b06219",
   "metadata": {},
   "outputs": [
    {
     "name": "stdout",
     "output_type": "stream",
     "text": [
      "Input the name: James\n",
      "86\n"
     ]
    }
   ],
   "source": [
    "names = [\"David\", \"Michael\", \"John\", \"James\", \"Greg\", \"Mark\", \"William\", \"Richard\", \"Thomas\", \"Steven\", \"Mary\", \"Susan\", \"Maria\", \"Karen\", \"Lisa\", \"Linda\", \"Donna\", \"Patricia\", \"Debra\", \"Eric\"]\n",
    "scores = [99, 87, 78, 86, 68, 94, 76, 97, 56, 98, 76, 87, 79, 90, 73, 93, 82, 69, 97, 98]\n",
    "entername = input('Input the name: ')\n",
    "nameindex = names.index(entername)\n",
    "print(scores[nameindex])"
   ]
  },
  {
   "cell_type": "markdown",
   "id": "71ae5756",
   "metadata": {},
   "source": [
    "# 3"
   ]
  },
  {
   "cell_type": "markdown",
   "id": "a06ad331",
   "metadata": {},
   "source": [
    "3- By using the two lists above, what is the maximum score and how many students got that score?"
   ]
  },
  {
   "cell_type": "code",
   "execution_count": 3,
   "id": "979026d3",
   "metadata": {},
   "outputs": [
    {
     "name": "stdout",
     "output_type": "stream",
     "text": [
      "Maximum score: 99\n",
      "1 student got maximum score\n"
     ]
    }
   ],
   "source": [
    "scores.sort()\n",
    "print('Maximum score: {}'.format(scores[-1]))\n",
    "print('{} student got maximum score'.format(scores.count(scores[-1])))"
   ]
  },
  {
   "cell_type": "markdown",
   "id": "a27ff3fd",
   "metadata": {},
   "source": [
    "# 4"
   ]
  },
  {
   "cell_type": "markdown",
   "id": "8490916f",
   "metadata": {},
   "source": [
    "4- We can confuse about how many days a month is. Create a list to handle it. You will have month names and day counts in your list together as a nested list."
   ]
  },
  {
   "cell_type": "code",
   "execution_count": 4,
   "id": "708669de",
   "metadata": {},
   "outputs": [
    {
     "name": "stdout",
     "output_type": "stream",
     "text": [
      "Enter month name: June\n",
      "There are 30 days in the month of June.\n"
     ]
    }
   ],
   "source": [
    "monthlist = ['January', 'February', 'March', 'April', 'May', 'June', 'July', 'August', 'September', 'October', 'November', 'December']\n",
    "days = [31, 28, 31, 30, 31, 30, 31, 31, 30, 31, 30, 31]\n",
    "monthname = input('Enter month name: ')\n",
    "monthdays = monthlist.index(monthname)\n",
    "print('There are {} days in the month of {}.'.format(days[monthdays], (monthname)))\n"
   ]
  },
  {
   "cell_type": "markdown",
   "id": "36c68437",
   "metadata": {},
   "source": [
    "# 5\n"
   ]
  },
  {
   "cell_type": "markdown",
   "id": "410a11b8",
   "metadata": {},
   "source": [
    "5- Now create lists of months for each season. Get month names and day counts from the list that you create before with slicing. Name the lists with seasons."
   ]
  },
  {
   "cell_type": "code",
   "execution_count": 5,
   "id": "ea92e697",
   "metadata": {},
   "outputs": [
    {
     "name": "stdout",
     "output_type": "stream",
     "text": [
      "Winter season months are: ['December', 'January', 'February']\n",
      "Spring season months are: ['March', 'April', 'May']\n",
      "Summer season months are: ['June', 'July', 'August']\n",
      "Autumn season months are: ['September', 'October', 'November']\n"
     ]
    }
   ],
   "source": [
    "monthlist = ['December', 'January', 'February', 'March', 'April', 'May', 'June', 'July', 'August', 'September', 'October', 'November']\n",
    "days = [31, 31, 28, 31, 30, 31, 30, 31, 31, 30, 31, 30]\n",
    "winter = monthlist[:3]\n",
    "spring = monthlist[3:6]\n",
    "summer = monthlist[6:9]\n",
    "autumn = monthlist[9:12]\n",
    "print('Winter season months are: {}'.format(winter))\n",
    "print('Spring season months are: {}'.format(spring))\n",
    "print('Summer season months are: {}'.format(summer))\n",
    "print('Autumn season months are: {}'.format(autumn))"
   ]
  },
  {
   "cell_type": "markdown",
   "id": "3edd23ab",
   "metadata": {},
   "source": [
    "# 6\n"
   ]
  },
  {
   "cell_type": "markdown",
   "id": "4aad2d7f",
   "metadata": {},
   "source": [
    "6- Finally, from the list in the previous question, calculate how many days the summer season lasts."
   ]
  },
  {
   "cell_type": "code",
   "execution_count": 6,
   "id": "29af5dc9",
   "metadata": {},
   "outputs": [
    {
     "name": "stdout",
     "output_type": "stream",
     "text": [
      "Total days in summer season: 92\n"
     ]
    }
   ],
   "source": [
    "summerseasondays = days[monthlist.index(summer[0])] + days[monthlist.index(summer[1])] + days[monthlist.index(summer[2])]\n",
    "#summerseasondays = sum(days[6:9])\n",
    "print('Total days in summer season: {}'.format(summerseasondays))"
   ]
  },
  {
   "cell_type": "code",
   "execution_count": null,
   "id": "ac228fdf",
   "metadata": {},
   "outputs": [],
   "source": []
  }
 ],
 "metadata": {
  "kernelspec": {
   "display_name": "Python 3 (ipykernel)",
   "language": "python",
   "name": "python3"
  },
  "language_info": {
   "codemirror_mode": {
    "name": "ipython",
    "version": 3
   },
   "file_extension": ".py",
   "mimetype": "text/x-python",
   "name": "python",
   "nbconvert_exporter": "python",
   "pygments_lexer": "ipython3",
   "version": "3.9.7"
  }
 },
 "nbformat": 4,
 "nbformat_minor": 5
}
