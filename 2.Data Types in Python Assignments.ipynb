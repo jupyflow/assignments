{
 "cells": [
  {
   "cell_type": "markdown",
   "id": "c7924a4c",
   "metadata": {},
   "source": [
    "# String Assignment"
   ]
  },
  {
   "cell_type": "markdown",
   "id": "16abd45c",
   "metadata": {},
   "source": [
    "# 1)"
   ]
  },
  {
   "cell_type": "code",
   "execution_count": 1,
   "id": "84d4e5bd",
   "metadata": {},
   "outputs": [
    {
     "name": "stdout",
     "output_type": "stream",
     "text": [
      "Enter your first name: magni\n",
      "Enter your surname: qwerty\n",
      "Magni Qwerty\n"
     ]
    }
   ],
   "source": [
    "name = input('Enter your first name: ')\n",
    "surname = input('Enter your surname: ')\n",
    "print(name.capitalize()+ ' ' + surname.capitalize())\n"
   ]
  },
  {
   "cell_type": "markdown",
   "id": "11c2f504",
   "metadata": {},
   "source": [
    "# 2)"
   ]
  },
  {
   "cell_type": "code",
   "execution_count": 3,
   "id": "223094b3",
   "metadata": {},
   "outputs": [
    {
     "name": "stdout",
     "output_type": "stream",
     "text": [
      "Type in the first line of a poem Raven: Deep into that darkness peering\n"
     ]
    },
    {
     "data": {
      "text/plain": [
       "31"
      ]
     },
     "execution_count": 3,
     "metadata": {},
     "output_type": "execute_result"
    }
   ],
   "source": [
    "firstline = input('Type in the first line of a poem Raven: ')\n",
    "len(firstline)"
   ]
  },
  {
   "cell_type": "code",
   "execution_count": 4,
   "id": "30f8a5bd",
   "metadata": {},
   "outputs": [
    {
     "name": "stdout",
     "output_type": "stream",
     "text": [
      "enter starting number: 15\n",
      "enter ending number: 23\n",
      "darkness\n"
     ]
    }
   ],
   "source": [
    "poem = \"\"\"Deep into that darkness peering,\n",
    "\n",
    "Long I stood there, wondering, fearing,\n",
    "\n",
    "Doubting, dreaming dreams no mortals\n",
    "\n",
    "Ever dared to dream before;\n",
    "\n",
    "But the silence was unbroken,\n",
    "\n",
    "And the stillness gave no token,\n",
    "\n",
    "And the only word there spoken\n",
    "\n",
    "Was the whispered word, \"Lenore!\"\n",
    "\n",
    "This I whispered, and an echo\n",
    "\n",
    "Murmured back the word, \"Lenore!\"\n",
    "\n",
    "Merely this, and nothing more.\"\"\"\n",
    "\n",
    "starting_number = int(input('enter starting number: '))\n",
    "ending_number = int(input('enter ending number: '))\n",
    "\n",
    "print(poem[starting_number:ending_number])\n",
    "\n",
    "\n"
   ]
  },
  {
   "cell_type": "markdown",
   "id": "b9bd2f23",
   "metadata": {},
   "source": [
    "# 3)"
   ]
  },
  {
   "cell_type": "code",
   "execution_count": 5,
   "id": "19ed9a1b",
   "metadata": {
    "scrolled": false
   },
   "outputs": [
    {
     "name": "stdout",
     "output_type": "stream",
     "text": [
      "Deep into that darkness peering,\n",
      "\n",
      "Long I stood there, wondering, fearing,\n",
      "\n",
      "Doubting, dreaming dreams no mortals\n",
      "\n",
      "Ever dared to dream before;\n",
      "\n",
      "But the silence was unbroken,\n",
      "\n",
      "And the stillness gave no token,\n",
      "\n",
      "And the only word there spoken\n",
      "\n",
      "Was the whispered word, \"Lenore!\"\n",
      "\n",
      "This I whispered, and an echo\n",
      "\n",
      "Murmured back the word, \"Lenore!\"\n",
      "\n",
      "Merely this, and nothing more.\n"
     ]
    }
   ],
   "source": [
    "removed_whitespaces = poem.strip()\n",
    "print(removed_whitespaces)"
   ]
  },
  {
   "cell_type": "markdown",
   "id": "19ffc278",
   "metadata": {},
   "source": [
    "# Variable Assignment"
   ]
  },
  {
   "cell_type": "markdown",
   "id": "5c5e61e4",
   "metadata": {},
   "source": [
    "# 1)"
   ]
  },
  {
   "cell_type": "code",
   "execution_count": 6,
   "id": "29760138",
   "metadata": {
    "scrolled": true
   },
   "outputs": [
    {
     "name": "stdout",
     "output_type": "stream",
     "text": [
      "<class 'int'>\n",
      "<class 'str'>\n"
     ]
    }
   ],
   "source": [
    "x = 1\n",
    "y = '1'\n",
    "\n",
    "print(type(x))\n",
    "print(type(y))"
   ]
  },
  {
   "cell_type": "markdown",
   "id": "4559c8b5",
   "metadata": {},
   "source": [
    "# 2)"
   ]
  },
  {
   "cell_type": "code",
   "execution_count": 7,
   "id": "8868199b",
   "metadata": {},
   "outputs": [
    {
     "name": "stdout",
     "output_type": "stream",
     "text": [
      "<class 'int'>\n",
      "<class 'int'>\n"
     ]
    }
   ],
   "source": [
    "y = int(y)\n",
    "print(type(x))\n",
    "print(type(y))"
   ]
  },
  {
   "cell_type": "markdown",
   "id": "0b90e94d",
   "metadata": {},
   "source": [
    "# Data Types Assignment"
   ]
  },
  {
   "cell_type": "markdown",
   "id": "4aec9ec7",
   "metadata": {},
   "source": [
    "# 1)"
   ]
  },
  {
   "cell_type": "code",
   "execution_count": 8,
   "id": "2217101a",
   "metadata": {},
   "outputs": [
    {
     "name": "stdout",
     "output_type": "stream",
     "text": [
      "Result = 2210.6814074060812\n"
     ]
    }
   ],
   "source": [
    "capital = 1000\n",
    "dailypct = 12\n",
    "period = 7\n",
    "result = capital * pow((1 + dailypct / 100), period)\n",
    "growth = result - capital\n",
    "growth_rate = growth/capital*100\n",
    "print('Result = {}'.format(result))\n"
   ]
  },
  {
   "cell_type": "markdown",
   "id": "5b42cbeb",
   "metadata": {},
   "source": [
    "# 2)"
   ]
  },
  {
   "cell_type": "code",
   "execution_count": 9,
   "id": "03b222d7",
   "metadata": {},
   "outputs": [
    {
     "name": "stdout",
     "output_type": "stream",
     "text": [
      "When we buy bitcoin with 1000 USD at the beginning of the week,\n",
      "we would earn 1210.6814074060812 USD at the end of the week, with an average gain of 121.06814074060811%.\n"
     ]
    }
   ],
   "source": [
    "print('When we buy bitcoin with {} USD at the beginning of the week,\\nwe would earn {} USD at the end of the week, with an average gain of {}%.'.format(capital, growth, growth_rate))"
   ]
  },
  {
   "cell_type": "markdown",
   "id": "9633ea9a",
   "metadata": {},
   "source": [
    "# 3)"
   ]
  },
  {
   "cell_type": "code",
   "execution_count": 10,
   "id": "7b0b8efa",
   "metadata": {},
   "outputs": [
    {
     "name": "stdout",
     "output_type": "stream",
     "text": [
      "Enter the temperature in Fahrenheit: 26\n",
      "Temprature (C): -3.3333333333333335\n"
     ]
    }
   ],
   "source": [
    "fahr = float(input(\"Enter the temperature in Fahrenheit: \"))\n",
    "celsius = (5/9) * (fahr - 32)\n",
    "print(f\"Temprature (C): {celsius}\")"
   ]
  },
  {
   "cell_type": "markdown",
   "id": "067b9512",
   "metadata": {},
   "source": [
    "# 4)"
   ]
  },
  {
   "cell_type": "code",
   "execution_count": 11,
   "id": "0187269f",
   "metadata": {
    "scrolled": true
   },
   "outputs": [
    {
     "name": "stdout",
     "output_type": "stream",
     "text": [
      "Enter three digit number: 365\n",
      "The sum of digits in the number is 14\n"
     ]
    }
   ],
   "source": [
    "num = (input('Enter three digit number: '))\n",
    "print(f\"The sum of digits in the number is {int(num[0]) + int(num[1]) + int(num[2])}\")"
   ]
  },
  {
   "cell_type": "markdown",
   "id": "4dd324a3",
   "metadata": {},
   "source": [
    "# 5)"
   ]
  },
  {
   "cell_type": "code",
   "execution_count": 13,
   "id": "02b8a61f",
   "metadata": {},
   "outputs": [
    {
     "name": "stdout",
     "output_type": "stream",
     "text": [
      "Enter first side length: 6\n",
      "Enter second side length: 8\n",
      "The length of the hypotenuse is 10.0\n"
     ]
    }
   ],
   "source": [
    "import numpy as np\n",
    "first_length = float(input(\"Enter first side length: \"))\n",
    "second_length = float(input(\"Enter second side length: \"))\n",
    "hypotenuse = np.sqrt(first_length**2 + second_length**2)\n",
    "print(f\"The length of the hypotenuse is {hypotenuse}\")"
   ]
  },
  {
   "cell_type": "markdown",
   "id": "77432e30",
   "metadata": {},
   "source": [
    "# Python Basics Assignment"
   ]
  },
  {
   "cell_type": "markdown",
   "id": "943f3f4c",
   "metadata": {},
   "source": [
    "# 1)"
   ]
  },
  {
   "cell_type": "code",
   "execution_count": 14,
   "id": "3eb9f7b4",
   "metadata": {},
   "outputs": [
    {
     "name": "stdout",
     "output_type": "stream",
     "text": [
      "Enter your first name:asdfsdf\n",
      "Enter your surname:qwerty\n",
      "asdfsdf qwerty\n"
     ]
    }
   ],
   "source": [
    "fname = input('Enter your first name:')\n",
    "lname = input('Enter your surname:')\n",
    "print(fname+ ' ' + lname)"
   ]
  },
  {
   "cell_type": "markdown",
   "id": "8d63fb1a",
   "metadata": {},
   "source": [
    "# 2)"
   ]
  },
  {
   "cell_type": "code",
   "execution_count": 15,
   "id": "5e832292",
   "metadata": {},
   "outputs": [
    {
     "name": "stdout",
     "output_type": "stream",
     "text": [
      "asdfsdf\n",
      "qwerty\n"
     ]
    }
   ],
   "source": [
    "print(fname+ '\\n' + lname)"
   ]
  },
  {
   "cell_type": "markdown",
   "id": "4be995c8",
   "metadata": {},
   "source": [
    "# 3)"
   ]
  },
  {
   "cell_type": "code",
   "execution_count": 16,
   "id": "4ecf35a3",
   "metadata": {},
   "outputs": [
    {
     "name": "stdout",
     "output_type": "stream",
     "text": [
      "`I don't want to be an \"artist\". I want to be a \"Data Scientist.\"`\n"
     ]
    }
   ],
   "source": [
    "print(\"\"\"`I don't want to be an \"artist\". I want to be a \"Data Scientist.\"`\"\"\")"
   ]
  },
  {
   "cell_type": "code",
   "execution_count": null,
   "id": "1672f142",
   "metadata": {},
   "outputs": [],
   "source": []
  }
 ],
 "metadata": {
  "kernelspec": {
   "display_name": "Python 3 (ipykernel)",
   "language": "python",
   "name": "python3"
  },
  "language_info": {
   "codemirror_mode": {
    "name": "ipython",
    "version": 3
   },
   "file_extension": ".py",
   "mimetype": "text/x-python",
   "name": "python",
   "nbconvert_exporter": "python",
   "pygments_lexer": "ipython3",
   "version": "3.9.7"
  }
 },
 "nbformat": 4,
 "nbformat_minor": 5
}
