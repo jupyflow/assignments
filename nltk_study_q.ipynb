{
 "cells": [
  {
   "cell_type": "code",
   "execution_count": 1,
   "metadata": {},
   "outputs": [],
   "source": [
    "import nltk"
   ]
  },
  {
   "cell_type": "code",
   "execution_count": 2,
   "metadata": {},
   "outputs": [
    {
     "name": "stdout",
     "output_type": "stream",
     "text": [
      "*** Introductory Examples for the NLTK Book ***\n",
      "Loading text1, ..., text9 and sent1, ..., sent9\n",
      "Type the name of the text or sentence to view it.\n",
      "Type: 'texts()' or 'sents()' to list the materials.\n",
      "text1: Moby Dick by Herman Melville 1851\n",
      "text2: Sense and Sensibility by Jane Austen 1811\n",
      "text3: The Book of Genesis\n",
      "text4: Inaugural Address Corpus\n",
      "text5: Chat Corpus\n",
      "text6: Monty Python and the Holy Grail\n",
      "text7: Wall Street Journal\n",
      "text8: Personals Corpus\n",
      "text9: The Man Who Was Thursday by G . K . Chesterton 1908\n"
     ]
    }
   ],
   "source": [
    "from nltk.book import *"
   ]
  },
  {
   "cell_type": "markdown",
   "metadata": {},
   "source": [
    "10. Define a variable my_sent to be a list of words, using the syntax my_sent = [\"My\", \"sent\"] (but with    your own words, or a favorite saying). \n",
    "a. Use ' '.join(my_sent) to convert this into a string. \n",
    "b. Use split() to split the string back into the list form you had to start with. "
   ]
  },
  {
   "cell_type": "code",
   "execution_count": 3,
   "metadata": {},
   "outputs": [],
   "source": [
    "my_sent = ['Time', 'is', 'money', ',', 'friend', '.']"
   ]
  },
  {
   "cell_type": "code",
   "execution_count": 4,
   "metadata": {},
   "outputs": [
    {
     "name": "stdout",
     "output_type": "stream",
     "text": [
      "Time is money , friend .\n"
     ]
    }
   ],
   "source": [
    "# convert into a string\n",
    "print(' '.join(my_sent))"
   ]
  },
  {
   "cell_type": "code",
   "execution_count": 5,
   "metadata": {},
   "outputs": [
    {
     "name": "stdout",
     "output_type": "stream",
     "text": [
      "['Time', 'is', 'money', ',', 'friend', '.']\n"
     ]
    }
   ],
   "source": [
    "# convert into a list\n",
    "print(' '.join(my_sent).split())"
   ]
  },
  {
   "cell_type": "markdown",
   "metadata": {},
   "source": [
    "19. What is the difference between the following two lines? Which one will give a larger value? Will this be the case for other texts?"
   ]
  },
  {
   "cell_type": "code",
   "execution_count": 6,
   "metadata": {},
   "outputs": [
    {
     "name": "stdout",
     "output_type": "stream",
     "text": [
      "17231\n"
     ]
    }
   ],
   "source": [
    "# it doesn't count the repeated words (lowercase or uppercase) \n",
    "print(len(sorted(set(w.lower() for w in text1))))"
   ]
  },
  {
   "cell_type": "code",
   "execution_count": 7,
   "metadata": {},
   "outputs": [
    {
     "name": "stdout",
     "output_type": "stream",
     "text": [
      "19317\n"
     ]
    }
   ],
   "source": [
    "# it counts if it is started different from the previous word (lowercase or uppercase)\n",
    "print(len(sorted(w.lower() for w in set(text1))))\n"
   ]
  },
  {
   "cell_type": "code",
   "execution_count": 8,
   "metadata": {},
   "outputs": [
    {
     "name": "stdout",
     "output_type": "stream",
     "text": [
      "6\n",
      "9\n"
     ]
    }
   ],
   "source": [
    "# create a new sentence example for explain\n",
    "new_sent = ['Time', 'is', 'money', 'friend', 'time', 'Is', 'The', 'Enemy', 'Friend']\n",
    "print(len(sorted(set(w.lower() for w in new_sent)))) \n",
    "# it doesn't count the repeated words (lowercase or uppercase)\n",
    "#  'Time' , 'is', 'money', 'friend', 'The', 'Enemy' are the unique words. total 6 \n",
    "\n",
    "print(len(sorted(w.lower() for w in set(new_sent)))) \n",
    "# it counts if it is started different from the previous word (lowercase or uppercase)\n",
    "# each word is counted. total 9 "
   ]
  },
  {
   "cell_type": "markdown",
   "metadata": {},
   "source": [
    "20. What is the difference between the following two tests: w.isupper() and not w.islower()? \n"
   ]
  },
  {
   "cell_type": "code",
   "execution_count": 9,
   "metadata": {},
   "outputs": [
    {
     "name": "stdout",
     "output_type": "stream",
     "text": [
      "3\n",
      "7\n"
     ]
    }
   ],
   "source": [
    "new_sent = ['TIME', 'is', 'MONEY', 'FRIEND', 'time', 'Is', 'The', 'Enemy', 'Friend']\n",
    "\n",
    "print(len(sorted(w.lower() for w in set(new_sent) if w.isupper())))\n",
    "# w.isupper() checks whether all characters are in uppercase.\n",
    "# it counts 'TIME','MONEY','FRIEND'. Total 3\n",
    "\n",
    "print(len(sorted(w.lower() for w in set(new_sent) if not w.islower())))\n",
    "# not w.islower() checks whether there is at least one uppercase character.\n",
    "# it counts all the words if there are 1 or more uppercase. 'is', 'time'. Total 9 - 2= 7\n"
   ]
  },
  {
   "cell_type": "markdown",
   "metadata": {},
   "source": [
    "21. Write the slice expression that extracts the last two words of text2. "
   ]
  },
  {
   "cell_type": "code",
   "execution_count": 10,
   "metadata": {},
   "outputs": [
    {
     "name": "stdout",
     "output_type": "stream",
     "text": [
      "['THE', 'END']\n"
     ]
    }
   ],
   "source": [
    "print(text2[len(text2)-2:])"
   ]
  },
  {
   "cell_type": "markdown",
   "metadata": {},
   "source": [
    "22. Find all the four-letter words in the Chat Corpus (text5). With the help of a frequency distribution (FreqDist), show these words in decreasing order of frequency. "
   ]
  },
  {
   "cell_type": "code",
   "execution_count": 11,
   "metadata": {},
   "outputs": [
    {
     "name": "stdout",
     "output_type": "stream",
     "text": [
      "10204\n"
     ]
    }
   ],
   "source": [
    "freqDistText5 = FreqDist(text5)\n",
    "text5fourletterwords = [w for w in text5 if len(w) == 4]\n",
    "print(len(text5fourletterwords))"
   ]
  },
  {
   "cell_type": "code",
   "execution_count": 12,
   "metadata": {},
   "outputs": [
    {
     "name": "stdout",
     "output_type": "stream",
     "text": [
      "['AKDT', 'AKST', 'AWAY', 'Ahhh', 'Away', 'Awww', 'Back', 'Been', 'Bone', 'Born', 'Boyz', 'CALI', 'CAPS', 'CHAT', 'COME', 'Came', 'Care', 'Chat', 'Chop', 'City', 'Come', 'Cool', 'Ctrl', 'Cute', 'DAMN', 'DING', 'DOES', 'DONT', 'Damn', 'Dang', 'Dawn', 'Days', 'Deep', 'Does', 'Dood', 'Down', 'Drew', 'Drop', 'Dude', 'ELSE', 'EVEN', 'Eggs', 'Elev', 'Elle', 'Even', 'Evil', 'Eyes', 'FACE', 'FINE', 'FROM', 'Fade', 'Food', 'Fort', 'From', 'GIRL', 'GOOD', 'GUYS', 'Girl', 'Good', 'Gosh', 'GrlZ', 'HAHA', 'HALO', 'HAVE', 'HERE', 'HOTT', 'HUGE', 'Haha', 'Hail', 'Hand', 'Hard', 'Have', 'Help', 'Here', 'Hero', 'Heya', 'Heys', 'Heyy', 'High', 'Hill', 'Hiya', 'Hold', 'Holy', 'Home', 'Hott', 'Hugs', 'Iowa', 'JOIN', 'JUST', 'Jane', 'Jess', 'Joey', 'John', 'Judy', 'Just', 'KNOW', 'Kent', 'Kewl', 'Kick', 'Kids', 'King', 'Kiss', 'KoOL', 'Kold', 'LATE', 'LAst', 'LIVE', 'LMAO', 'LONG', 'LOUD', 'Last', 'Lets', 'Liam', 'Lies', 'Life', 'Like', 'Lime', 'Lion', 'Live', 'Lmao', 'LoVe', 'Long', 'Look', 'Lord', 'Love', 'MODE', 'MORE', 'MRIs', 'MUAH', 'Male', 'Maps', 'Mary', 'Matt', 'Meep', 'Mine', 'Mono', 'NAME', 'NICK', 'NONE', 'NTMN', 'Need', 'News', 'Nice', 'None', 'Nooo', 'Nope', 'Nova', 'OOPS', 'Ohhh', 'Ohio', 'Okay', 'Only', 'Oops', 'Over', 'PART', 'PMSL', 'Paul', 'Phil', 'Poor', 'Pour', 'Prof', 'QUIT', 'ROFL', 'ROOM', 'Rang', 'Reub', 'Rick', 'Road', 'Rock', 'Rofl', 'Room', 'Rule', 'Rush', 'Ruth', 'SEEN', 'SExy', 'SIZE', 'SOME', 'SSRI', 'STOP', 'Same', 'Save', 'Seee', 'Sexy', 'Show', 'Slip', 'Song', 'Stop', 'Sure', 'Swim', 'TALK', 'TEXT', 'THAT', 'THEY', 'TIME', 'TYPR', 'Take', 'Talk', 'Teck', 'Tell', 'That', 'Then', 'They', 'This', 'Tide', 'Tiff', 'Time', 'Tina', 'Tisk', 'Troy', 'Turn', 'Type', 'Uhhh', 'Ummm', 'VBox', 'VVil', 'Very', 'WHEN', 'WHOA', 'WILL', 'WITH', 'Well', 'Werd', 'Were', 'West', 'What', 'When', 'Will', 'Wind', 'Wyte', 'YALL', 'YOUR', 'Yeah', 'Yoko', 'York', 'Your', 'able', 'abou', 'acid', 'adds', 'addy', 'ages', 'ahah', 'ahem', 'ahhh', 'aime', 'aint', 'akon', 'allo', 'ally', 'alot', 'also', 'amen', 'anal', 'anti', 'area', 'argh', 'arms', 'army', 'asks', 'asss', 'aunt', 'away', 'awww', 'babe', 'babi', 'baby', 'back', 'bacl', 'ball', 'band', 'bare', 'barn', 'base', 'beam', 'bear', 'beat', 'been', 'beer', 'bein', 'bell', 'bend', 'benz', 'best', 'bied', 'bike', 'bird', 'bite', 'blah', 'blew', 'bloe', 'blow', 'blue', 'body', 'boed', 'bois', 'bomb', 'bone', 'bong', 'book', 'boom', 'boot', 'born', 'boss', 'both', 'bout', 'bowl', 'boys', 'brad', 'brat', 'bred', 'brwn', 'buff', 'bugs', 'bull', 'burp', 'bust', 'busy', 'butt', 'byes', 'caan', 'caca', 'cali', 'call', 'calm', 'came', 'cams', 'cant', 'caps', 'card', 'care', 'cars', 'case', 'cash', 'cast', 'cell', 'cepn', 'chat', 'chik', 'chip', 'chit', 'choc', 'ciao', 'city', 'clap', 'clay', 'club', 'clue', 'cmon', 'coat', 'cock', 'coem', 'cold', 'come', 'comp', 'cook', 'cool', 'cops', 'corn', 'cost', 'crap', 'crib', 'crop', 'cums', 'cure', 'cuss', 'cute', 'cyas', 'daft', 'damn', 'dang', 'dark', 'date', 'dawg', 'days', 'dead', 'deaf', 'deal', 'dear', 'deep', 'deop', 'dick', 'died', 'dies', 'dint', 'dirt', 'disc', 'dman', 'docs', 'does', 'dogs', 'doin', 'dojn', 'doll', 'done', 'dont', 'door', 'dork', 'dotn', 'down', 'draw', 'drew', 'drop', 'drug', 'dude', 'duet', 'dumb', 'dump', 'dust', 'dyed', 'each', 'ears', 'east', 'easy', 'eats', 'ebay', 'eeek', 'eeww', 'elle', 'ello', 'else', 'enuf', 'eric', 'este', 'evah', 'even', 'ever', 'evil', 'ewww', 'exit', 'eyes', 'face', 'fair', 'fake', 'fall', 'fart', 'fast', 'fawk', 'fear', 'feat', 'febe', 'feel', 'feet', 'felt', 'find', 'fine', 'fire', 'firs', 'fish', 'fits', 'five', 'flaw', 'flow', 'fock', 'food', 'fool', 'foot', 'form', 'four', 'free', 'from', 'frst', 'fuck', 'full', 'gags', 'gals', 'game', 'gawd', 'gays', 'gear', 'gees', 'geez', 'gets', 'ghet', 'gift', 'gimp', 'girl', 'giva', 'give', 'givs', 'glad', 'goes', 'goin', 'gold', 'golf', 'gone', 'good', 'goof', 'gooo', 'gosh', 'gray', 'grea', 'gret', 'grew', 'grin', 'grrl', 'grrr', 'guns', 'guts', 'guys', 'guyz', 'haaa', 'haha', 'hail', 'hair', 'half', 'hall', 'halo', 'hand', 'hang', 'hank', 'hard', 'hate', 'have', 'hawT', 'hawt', 'haze', 'hazy', 'head', 'heal', 'hear', 'heat', 'heck', 'heee', 'hehe', 'hell', 'help', 'herE', 'herd', 'here', 'heya', 'heyy', 'hgey', 'hick', 'hide', 'high', 'hiii', 'hill', 'hint', 'hiom', 'hits', 'hiya', 'hmmm', 'hmph', 'hogs', 'hola', 'hold', 'holy', 'home', 'hong', 'hook', 'hooo', 'hope', 'hots', 'hott', 'hour', 'howl', 'hows', 'howz', 'http', 'huge', 'hugs', 'humm', 'hump', 'hurr', 'hurt', 'icky', 'idea', 'idnt', 'imma', 'inch', 'into', 'isnt', 'itch', 'jack', 'jail', 'jeep', 'jeff', 'jerk', 'john', 'joke', 'jude', 'jump', 'junk', 'jush', 'just', 'keep', 'kent', 'kept', 'kewl', 'keys', 'kick', 'kids', 'kill', 'kina', 'kind', 'king', 'kiss', 'kmph', 'knee', 'knew', 'know', 'kold', 'kong', 'kool', 'lady', 'ladz', 'laid', 'lake', 'lala', 'lame', 'land', 'lapd', 'last', 'late', 'lawl', 'lazy', 'lead', 'left', 'legs', 'lets', 'lick', 'lies', 'life', 'like', 'limp', 'line', 'lisa', 'list', 'live', 'lmao', 'lois', 'long', 'look', 'lool', 'lord', 'lose', 'loss', 'lost', 'lots', 'loud', 'love', 'ltnc', 'ltns', 'lube', 'luck', 'lung', 'lust', 'luvs', 'lyin', 'made', 'mahn', 'main', 'make', 'male', 'mama', 'mame', 'mami', 'mang', 'many', 'mark', 'mary', 'mass', 'mauh', 'mean', 'meat', 'meds', 'meet', 'mena', 'menu', 'mess', 'mike', 'mind', 'mine', 'mins', 'miss', 'mite', 'mkay', 'mmmm', 'mode', 'mofo', 'moms', 'mono', 'moon', 'more', 'most', 'move', 'much', 'must', 'nada', 'nads', 'name', 'nana', 'nawp', 'nawt', 'near', 'neck', 'need', 'nerd', 'newp', 'next', 'nice', 'nick', 'nite', 'nods', 'none', 'nope', 'nose', 'note', 'noth', 'nude', 'nuff', 'numb', 'offa', 'ogan', 'ohhh', 'ohio', 'ohwa', 'okay', 'okey', 'once', 'ones', 'only', 'ooer', 'oooh', 'oops', 'open', 'opps', 'orgy', 'orta', 'otay', 'ouch', 'outa', 'outs', 'over', 'owww', 'page', 'paid', 'pain', 'pair', 'park', 'part', 'pasa', 'pass', 'past', 'peek', 'peel', 'perk', 'perv', 'pfft', 'phil', 'pick', 'pics', 'pies', 'piff', 'pigs', 'pimp', 'pine', 'pink', 'plan', 'play', 'plow', 'plus', 'pmsl', 'poem', 'poll', 'poof', 'pool', 'poop', 'poor', 'poot', 'pope', 'pork', 'porn', 'post', 'pour', 'pray', 'prep', 'prob', 'puff', 'puke', 'pull', 'pure', 'push', 'puts', 'pwns', 'ques', 'quit', 'quiz', 'raed', 'rain', 'rang', 'rape', 'rats', 'read', 'real', 'rent', 'rest', 'ribs', 'rich', 'ride', 'ring', 'road', 'rock', 'rofl', 'roll', 'roof', 'room', 'root', 'rose', 'rubs', 'ruff', 'rule', 'runs', 'rush', 'saME', 'safe', 'said', 'salt', 'same', 'samn', 'sand', 'sang', 'sayn', 'says', 'scar', 'scuk', 'scum', 'sean', 'seat', 'seee', 'seem', 'seen', 'self', 'sell', 'send', 'sent', 'serg', 'seth', 'sets', 'sexi', 'sexs', 'sext', 'sexy', 'shes', 'shit', 'shop', 'shot', 'show', 'shup', 'shut', 'sick', 'side', 'sigh', 'sign', 'sing', 'sink', 'sips', 'site', 'sits', 'size', 'skin', 'slam', 'slap', 'slip', 'slow', 'smax', 'snow', 'sock', 'soda', 'soft', 'some', 'song', 'soon', 'sooo', 'sore', 'sori', 'sort', 'soul', 'soup', 'span', 'spat', 'spin', 'spit', 'spot', 'ssid', 'star', 'stay', 'stop', 'such', 'suck', 'sure', 'surf', 'swim', 'syck', 'tail', 'take', 'talk', 'tall', 'tape', 'tart', 'team', 'teck', 'tell', 'temp', 'tend', 'tenn', 'tere', 'term', 'test', 'thah', 'than', 'that', 'them', 'then', 'ther', 'they', 'this', 'thje', 'thnx', 'thot', 'thru', 'tick', 'tiff', 'till', 'time', 'tips', 'tisk', 'tits', 'tjhe', 'tlak', 'tock', 'toes', 'toke', 'told', 'took', 'tooo', 'toop', 'tory', 'toss', 'town', 'trip', 'true', 'tthe', 'tune', 'turn', 'twin', 'twit', 'type', 'typo', 'tyvm', 'ugly', 'ummm', 'urls', 'used', 'uses', 'ussy', 'uyes', 'vamp', 'vega', 'vent', 'very', 'vote', 'wOOt', 'waaa', 'wack', 'waht', 'wait', 'walk', 'wall', 'wana', 'want', 'warm', 'wash', 'wats', 'ways', 'wazz', 'wean', 'wear', 'weed', 'week', 'well', 'went', 'were', 'west', 'what', 'when', 'wher', 'whew', 'whip', 'whoa', 'whoo', 'whos', 'whou', 'whud', 'whys', 'wide', 'wife', 'wild', 'will', 'wind', 'wine', 'wins', 'wire', 'wish', 'with', 'woah', 'wont', 'wood', 'woof', 'wooo', 'woot', 'word', 'wore', 'work', 'worl', 'wrap', 'wrek', 'wubs', 'wuts', 'xbox', 'xmas', 'yada', 'yall', 'yard', 'yawn', 'yeah', 'year', 'yeas', 'yeee', 'yell', 'yesh', 'yess', 'yoko', 'yoll', 'your', 'yout', 'zone']\n"
     ]
    }
   ],
   "source": [
    "freqDistText5 = FreqDist(text5)\n",
    "text5fourletterwords = sorted(set([w for w in text5 if w.isalpha() and len(w) == 4]))\n",
    "print(text5fourletterwords)\n"
   ]
  },
  {
   "cell_type": "code",
   "execution_count": 13,
   "metadata": {},
   "outputs": [
    {
     "name": "stdout",
     "output_type": "stream",
     "text": [
      "<FreqDist with 6066 samples and 45010 outcomes>\n"
     ]
    }
   ],
   "source": [
    "print(freqDistText5)\n"
   ]
  },
  {
   "cell_type": "code",
   "execution_count": 14,
   "metadata": {},
   "outputs": [
    {
     "name": "stdout",
     "output_type": "stream",
     "text": [
      "<FreqDist with 1038 samples and 45010 outcomes>\n"
     ]
    },
    {
     "data": {
      "image/png": "[encoded data removed]",
      "text/plain": [
       "<Figure size 432x288 with 1 Axes>"
      ]
     },
     "metadata": {
      "needs_background": "light"
     },
     "output_type": "display_data"
    },
    {
     "data": {
      "text/plain": [
       "<AxesSubplot:xlabel='Samples', ylabel='Counts'>"
      ]
     },
     "execution_count": 14,
     "metadata": {},
     "output_type": "execute_result"
    }
   ],
   "source": [
    "for sample in [w for w in freqDistText5]:\n",
    "    if sample not in text5fourletterwords:\n",
    "        freqDistText5.pop(sample)\n",
    "print(freqDistText5)\n",
    "freqDistText5.plot(50)"
   ]
  },
  {
   "cell_type": "markdown",
   "metadata": {},
   "source": [
    "25. Define sent to be the list of words ['she', 'sells', 'sea', 'shells', 'by', 'the', 'sea', 'shore']. Now write code to perform the following tasks: \n",
    "a. Print all words beginning with sh. \n",
    "b. Print all words longer than four characters \n"
   ]
  },
  {
   "cell_type": "code",
   "execution_count": 15,
   "metadata": {},
   "outputs": [
    {
     "name": "stdout",
     "output_type": "stream",
     "text": [
      "['she', 'shells', 'shore']\n",
      "['sells', 'shells', 'shore']\n"
     ]
    }
   ],
   "source": [
    "sent = ['she', 'sells', 'sea', 'shells', 'by', 'the', 'sea', 'shore']\n",
    "# printing all words beginning with 'sh'\n",
    "print([w for w in sent if w.startswith('sh')])\n",
    "# printing all words longer than four characters\n",
    "print([w for w in sent if len(w) > 4])"
   ]
  },
  {
   "cell_type": "markdown",
   "metadata": {},
   "source": [
    "26. What does the following Python code do? sum([len(w) for w in text1]) Can you use it to work out the average word length of a text? \n"
   ]
  },
  {
   "cell_type": "code",
   "execution_count": 16,
   "metadata": {},
   "outputs": [
    {
     "name": "stdout",
     "output_type": "stream",
     "text": [
      "999044\n",
      "260819\n",
      "3.830411128023649\n"
     ]
    }
   ],
   "source": [
    "print(sum(len(w) for w in text1)) \n",
    "# sum of the length of all words in text1\n",
    "\n",
    "print(len(text1))\n",
    "# total number of words in text1\n",
    "\n",
    "print(sum(len(w) for w in text1) / len(text1))\n",
    "# average length of all words in text1"
   ]
  },
  {
   "cell_type": "markdown",
   "metadata": {},
   "source": [
    "27. Define a function called vocab_size(text) that has a single parameter for the text, and which returns the vocabulary size of the text. \n"
   ]
  },
  {
   "cell_type": "code",
   "execution_count": 17,
   "metadata": {},
   "outputs": [
    {
     "data": {
      "text/plain": [
       "17231"
      ]
     },
     "execution_count": 17,
     "metadata": {},
     "output_type": "execute_result"
    }
   ],
   "source": [
    "# Define a function called vocab_size(text) that has a single parameter for the text, and which returns the vocabulary size of the text. \n",
    "def vocab_size(text):\n",
    "    return len(set(w.lower() for w in text))\n",
    "vocab_size(text1)"
   ]
  },
  {
   "cell_type": "markdown",
   "metadata": {},
   "source": [
    "28. Define a function percent(word, text) that calculates how often a given word occurs in a text and expresses the result as a percentage. "
   ]
  },
  {
   "cell_type": "code",
   "execution_count": 18,
   "metadata": {},
   "outputs": [
    {
     "data": {
      "text/plain": [
       "5.260736372733581"
      ]
     },
     "execution_count": 18,
     "metadata": {},
     "output_type": "execute_result"
    }
   ],
   "source": [
    "def percent(word, text):\n",
    "    return 100 * FreqDist(text)[word] / FreqDist(text).N()\n",
    "percent('the', text1)\n",
    "\n",
    "# .N() function in FreqDist class\n",
    "# it counts the number of words in the text\n",
    "# it is the same as len(text)\n"
   ]
  },
  {
   "cell_type": "code",
   "execution_count": null,
   "metadata": {},
   "outputs": [],
   "source": [
    "\n"
   ]
  }
 ],
 "metadata": {
  "kernelspec": {
   "display_name": "Python 3.9.7 ('base')",
   "language": "python",
   "name": "python3"
  },
  "language_info": {
   "codemirror_mode": {
    "name": "ipython",
    "version": 3
   },
   "file_extension": ".py",
   "mimetype": "text/x-python",
   "name": "python",
   "nbconvert_exporter": "python",
   "pygments_lexer": "ipython3",
   "version": "3.9.7"
  },
  "orig_nbformat": 4,
  "vscode": {
   "interpreter": {
    "hash": "4d8ddb112337c478f964038c7f3ecd077231c3f5bd16cb716ff8dffca203eda8"
   }
  }
 },
 "nbformat": 4,
 "nbformat_minor": 2
}
