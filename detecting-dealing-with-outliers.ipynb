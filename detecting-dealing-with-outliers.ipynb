{
 "cells": [
  {
   "cell_type": "code",
   "execution_count": 1,
   "metadata": {},
   "outputs": [],
   "source": [
    "import pandas as pd\n",
    "import numpy as np\n",
    "import matplotlib.pyplot as plt"
   ]
  },
  {
   "cell_type": "code",
   "execution_count": 2,
   "metadata": {},
   "outputs": [
    {
     "data": {
      "text/plain": [
       "PRIMARY_KEY                        0\n",
       "STATE                              0\n",
       "YEAR                               0\n",
       "ENROLL                           491\n",
       "TOTAL_REVENUE                    440\n",
       "FEDERAL_REVENUE                  440\n",
       "STATE_REVENUE                    440\n",
       "LOCAL_REVENUE                    440\n",
       "TOTAL_EXPENDITURE                440\n",
       "INSTRUCTION_EXPENDITURE          440\n",
       "SUPPORT_SERVICES_EXPENDITURE     440\n",
       "OTHER_EXPENDITURE                491\n",
       "CAPITAL_OUTLAY_EXPENDITURE       440\n",
       "GRADES_PK_G                      173\n",
       "GRADES_KG_G                       83\n",
       "GRADES_4_G                        83\n",
       "GRADES_8_G                        83\n",
       "GRADES_12_G                       83\n",
       "GRADES_1_8_G                     695\n",
       "GRADES_9_12_G                    644\n",
       "GRADES_ALL_G                      83\n",
       "AVG_MATH_4_SCORE                1150\n",
       "AVG_MATH_8_SCORE                1113\n",
       "AVG_READING_4_SCORE             1065\n",
       "AVG_READING_8_SCORE             1153\n",
       "dtype: int64"
      ]
     },
     "execution_count": 2,
     "metadata": {},
     "output_type": "execute_result"
    }
   ],
   "source": [
    "# Load the data\n",
    "df = pd.read_csv('states_all.csv')\n",
    "# check null values\n",
    "df.isnull().sum()"
   ]
  },
  {
   "cell_type": "code",
   "execution_count": 3,
   "metadata": {},
   "outputs": [
    {
     "data": {
      "image/png": "[encoded data removed]",
      "text/plain": [
       "<Figure size 432x288 with 1 Axes>"
      ]
     },
     "metadata": {
      "needs_background": "light"
     },
     "output_type": "display_data"
    }
   ],
   "source": [
    "#1. Consider the two variables: TOTAL_REVENUE and TOTAL_EXPENDITURE. Do these variables have outlier values?\n",
    "# histogram of TOTAL_REVENUE\n",
    "plt.hist(df['TOTAL_REVENUE'])\n",
    "plt.title('TOTAL_REVENUE')\n",
    "plt.show()\n"
   ]
  },
  {
   "cell_type": "code",
   "execution_count": 4,
   "metadata": {},
   "outputs": [
    {
     "data": {
      "image/png": "[encoded data removed]",
      "text/plain": [
       "<Figure size 432x288 with 1 Axes>"
      ]
     },
     "metadata": {
      "needs_background": "light"
     },
     "output_type": "display_data"
    }
   ],
   "source": [
    "# histogram of TOTAL_EXPENDITURE\n",
    "plt.hist(df['TOTAL_EXPENDITURE'])\n",
    "plt.title('TOTAL_EXPENDITURE')\n",
    "plt.show()"
   ]
  },
  {
   "cell_type": "code",
   "execution_count": 5,
   "metadata": {},
   "outputs": [
    {
     "name": "stdout",
     "output_type": "stream",
     "text": [
      "440\n"
     ]
    }
   ],
   "source": [
    "# total null values in TOTAL_REVENUE\n",
    "print(df['TOTAL_REVENUE'].isnull().sum())"
   ]
  },
  {
   "cell_type": "code",
   "execution_count": 6,
   "metadata": {},
   "outputs": [
    {
     "name": "stdout",
     "output_type": "stream",
     "text": [
      "440\n"
     ]
    }
   ],
   "source": [
    "# total null values in TOTAL_EXPENDITURE\n",
    "print(df['TOTAL_EXPENDITURE'].isnull().sum())"
   ]
  },
  {
   "cell_type": "code",
   "execution_count": 7,
   "metadata": {},
   "outputs": [],
   "source": [
    "# there are null values in TOTAL_REVENUE and TOTAL_EXPENDITURE so we need to remove them for the analysis"
   ]
  },
  {
   "cell_type": "code",
   "execution_count": 8,
   "metadata": {},
   "outputs": [],
   "source": [
    "# dropping the null values in TOTAL_REVENUE\n",
    "df = df.dropna(subset=['TOTAL_REVENUE'])\n",
    "# dropping the null values in TOTAL_EXPENDITURE\n",
    "df = df.dropna(subset=['TOTAL_EXPENDITURE'])"
   ]
  },
  {
   "cell_type": "code",
   "execution_count": 9,
   "metadata": {},
   "outputs": [],
   "source": [
    "# z-score analysis for TOTAL_REVENUE and TOTAL_EXPENDITURE\n",
    "# z-score analysis for TOTAL_REVENUE\n",
    "z_score_revenue = (df['TOTAL_REVENUE'] - df['TOTAL_REVENUE'].mean()) / df['TOTAL_REVENUE'].std()\n",
    "# z-score analysis for TOTAL_EXPENDITURE\n",
    "z_score_expenditure = (df['TOTAL_EXPENDITURE'] - df['TOTAL_EXPENDITURE'].mean()) / df['TOTAL_EXPENDITURE'].std()\n"
   ]
  },
  {
   "cell_type": "code",
   "execution_count": 10,
   "metadata": {},
   "outputs": [
    {
     "name": "stdout",
     "output_type": "stream",
     "text": [
      "37\n",
      "38\n"
     ]
    }
   ],
   "source": [
    "# total outliers in TOTAL_REVENUE\n",
    "print(z_score_revenue[z_score_revenue > 3].count())\n",
    "# total outliers in TOTAL_EXPENDITURE\n",
    "print(z_score_expenditure[z_score_expenditure > 3].count())\n"
   ]
  },
  {
   "cell_type": "code",
   "execution_count": 11,
   "metadata": {},
   "outputs": [],
   "source": [
    "# so there are outliers"
   ]
  },
  {
   "cell_type": "code",
   "execution_count": 12,
   "metadata": {},
   "outputs": [],
   "source": [
    "# checking with boxplot"
   ]
  },
  {
   "cell_type": "code",
   "execution_count": 13,
   "metadata": {},
   "outputs": [
    {
     "data": {
      "image/png": "[encoded data removed]",
      "text/plain": [
       "<Figure size 432x288 with 1 Axes>"
      ]
     },
     "metadata": {
      "needs_background": "light"
     },
     "output_type": "display_data"
    }
   ],
   "source": [
    "# boxplot of TOTAL_REVENUE\n",
    "plt.boxplot(df['TOTAL_REVENUE'])\n",
    "plt.title('TOTAL_REVENUE')\n",
    "plt.show()"
   ]
  },
  {
   "cell_type": "code",
   "execution_count": 14,
   "metadata": {},
   "outputs": [
    {
     "data": {
      "image/png": "[encoded data removed]",
      "text/plain": [
       "<Figure size 432x288 with 1 Axes>"
      ]
     },
     "metadata": {
      "needs_background": "light"
     },
     "output_type": "display_data"
    }
   ],
   "source": [
    "# boxplot of TOTAL_EXPENDITURE\n",
    "plt.boxplot(df['TOTAL_EXPENDITURE'])\n",
    "plt.title('TOTAL_EXPENDITURE')\n",
    "plt.show()"
   ]
  },
  {
   "cell_type": "code",
   "execution_count": 15,
   "metadata": {},
   "outputs": [],
   "source": [
    "# there are outliers in TOTAL_REVENUE\n",
    "# there are outliers in TOTAL_EXPENDITURE"
   ]
  },
  {
   "cell_type": "code",
   "execution_count": 16,
   "metadata": {},
   "outputs": [
    {
     "data": {
      "text/plain": [
       "masked_array(data=[ 2678885.,  1049591.,  3258079., ...,  3391579.,\n",
       "                   11697466.,  2044669.],\n",
       "             mask=False,\n",
       "       fill_value=1e+20)"
      ]
     },
     "execution_count": 16,
     "metadata": {},
     "output_type": "execute_result"
    }
   ],
   "source": [
    "# Q2.  If you detect outliers in the TOTAL_REVENUE and TOTAL_EXPENDITURE variables, apply the techniques you learned in this checkpoint to eliminate them and validate that there are no outlier values after you handled them.\n",
    "# winsorizing the outliers in TOTAL_REVENUE\n",
    "from scipy.stats.mstats import winsorize\n",
    "winsorize = winsorize(np.array(df['TOTAL_REVENUE'].dropna()), limits=[0.05, 0.095])\n",
    "winsorize"
   ]
  },
  {
   "cell_type": "code",
   "execution_count": 17,
   "metadata": {},
   "outputs": [
    {
     "data": {
      "image/png": "[encoded data removed]",
      "text/plain": [
       "<Figure size 432x288 with 1 Axes>"
      ]
     },
     "metadata": {
      "needs_background": "light"
     },
     "output_type": "display_data"
    }
   ],
   "source": [
    "# boxplot of winsorized TOTAL_REVENUE\n",
    "plt.boxplot(winsorize)\n",
    "plt.title('winsorized TOTAL_REVENUE')\n",
    "plt.show()"
   ]
  },
  {
   "cell_type": "code",
   "execution_count": 20,
   "metadata": {},
   "outputs": [
    {
     "data": {
      "text/plain": [
       "masked_array(data=[ 2653798.,   972488.,  3401580., ...,  3366566.,\n",
       "                   11787535.,  2034229.],\n",
       "             mask=False,\n",
       "       fill_value=1e+20)"
      ]
     },
     "execution_count": 20,
     "metadata": {},
     "output_type": "execute_result"
    }
   ],
   "source": [
    "# winsorizing the outliers in TOTAL_EXPENDITURE\n",
    "from scipy.stats.mstats import winsorize\n",
    "winsorize_exp = winsorize(np.array(df['TOTAL_EXPENDITURE'].dropna()), limits=[0.05, 0.095])\n",
    "winsorize_exp\n"
   ]
  },
  {
   "cell_type": "code",
   "execution_count": 21,
   "metadata": {},
   "outputs": [
    {
     "data": {
      "image/png": "[encoded data removed]",
      "text/plain": [
       "<Figure size 432x288 with 1 Axes>"
      ]
     },
     "metadata": {
      "needs_background": "light"
     },
     "output_type": "display_data"
    }
   ],
   "source": [
    "# boxplot of winsorized TOTAL_EXPENDITURE\n",
    "plt.boxplot(winsorize_exp)\n",
    "plt.title('winsorized TOTAL_EXPENDITURE')\n",
    "plt.show()\n"
   ]
  },
  {
   "cell_type": "code",
   "execution_count": 23,
   "metadata": {},
   "outputs": [],
   "source": [
    "# Q3. Create another variable by subtracting the original TOTAL_EXPENDITURE from TOTAL_REVENUE \n",
    "# (before you eliminated the outliers). \n",
    "# You can think of it as a kind of budget deficit in education. \n",
    "# Do you find any outlier values in this new variable? \n",
    "# If so, eliminate them using the technique that think is most suitable."
   ]
  },
  {
   "cell_type": "code",
   "execution_count": 24,
   "metadata": {},
   "outputs": [
    {
     "name": "stdout",
     "output_type": "stream",
     "text": [
      "7\n"
     ]
    }
   ],
   "source": [
    "# subtracting TOTAL_REVENUE from TOTAL_EXPENDITURE\n",
    "df['BUDGET_DEFICIT'] = df['TOTAL_REVENUE'] - df['TOTAL_EXPENDITURE']\n",
    "# checking for outliers in BUDGET_DEFICIT\n",
    "z_score_budget = (df['BUDGET_DEFICIT'] - df['BUDGET_DEFICIT'].mean()) / df['BUDGET_DEFICIT'].std()\n",
    "print(z_score_budget[z_score_budget > 3].count())\n"
   ]
  },
  {
   "cell_type": "code",
   "execution_count": 25,
   "metadata": {},
   "outputs": [
    {
     "data": {
      "image/png": "[encoded data removed]",
      "text/plain": [
       "<Figure size 432x288 with 1 Axes>"
      ]
     },
     "metadata": {
      "needs_background": "light"
     },
     "output_type": "display_data"
    }
   ],
   "source": [
    "# boxplot of BUDGET_DEFICIT\n",
    "plt.boxplot(df['BUDGET_DEFICIT'])\n",
    "plt.title('BUDGET_DEFICIT')\n",
    "plt.show()\n"
   ]
  },
  {
   "cell_type": "code",
   "execution_count": 26,
   "metadata": {},
   "outputs": [],
   "source": [
    "# there are outliers in BUDGET_DEFICIT"
   ]
  },
  {
   "cell_type": "code",
   "execution_count": 27,
   "metadata": {},
   "outputs": [
    {
     "data": {
      "text/plain": [
       "masked_array(data=[  25087.,   77103., -143501., ...,   25013.,  -90069.,\n",
       "                     10440.],\n",
       "             mask=False,\n",
       "       fill_value=1e+20)"
      ]
     },
     "execution_count": 27,
     "metadata": {},
     "output_type": "execute_result"
    }
   ],
   "source": [
    "from scipy.stats.mstats import winsorize\n",
    "winsorize_budget = winsorize(np.array(df['BUDGET_DEFICIT'].dropna()), limits=[0.05, 0.095])\n",
    "winsorize_budget"
   ]
  },
  {
   "cell_type": "code",
   "execution_count": 28,
   "metadata": {},
   "outputs": [
    {
     "data": {
      "image/png": "[encoded data removed]",
      "text/plain": [
       "<Figure size 432x288 with 1 Axes>"
      ]
     },
     "metadata": {
      "needs_background": "light"
     },
     "output_type": "display_data"
    }
   ],
   "source": [
    "# boxplot of winsorized BUDGET_DEFICIT\n",
    "plt.boxplot(winsorize_budget)\n",
    "plt.title('winsorized BUDGET_DEFICIT')\n",
    "plt.show()"
   ]
  },
  {
   "cell_type": "code",
   "execution_count": 29,
   "metadata": {},
   "outputs": [],
   "source": [
    "# Q4. Now create another variable by subtracting the TOTAL_EXPENDITURE from TOTAL_REVENUE. \n",
    "# This time, use the outlier eliminated versions of TOTAL_EXPENDITURE from TOTAL_REVENUE. \n",
    "# In this newly created variable, can you find any outliers? If so, eliminate them.\n",
    "\n"
   ]
  },
  {
   "cell_type": "code",
   "execution_count": 42,
   "metadata": {},
   "outputs": [
    {
     "name": "stdout",
     "output_type": "stream",
     "text": [
      "7\n",
      "       TOTAL_REVENUE_2\n",
      "count     1.275000e+03\n",
      "mean      5.572884e-18\n",
      "std       1.000000e+00\n",
      "min      -9.373553e+00\n",
      "25%      -1.342614e-01\n",
      "50%       1.442179e-01\n",
      "75%       2.713131e-01\n",
      "max       6.966904e+00\n"
     ]
    }
   ],
   "source": [
    "# creating  another variable by subtracting the TOTAL_EXPENDITURE from TOTAL_REVENUE.\n",
    "df['TOTAL_REVENUE_2'] = df['TOTAL_REVENUE'] - df['TOTAL_EXPENDITURE']\n",
    "# checking for outliers in TOTAL_REVENUE_2\n",
    "z_score_revenue_2 = (df['TOTAL_REVENUE_2'] - df['TOTAL_REVENUE_2'].mean()) / df['TOTAL_REVENUE_2'].std()\n",
    "print(z_score_revenue_2[z_score_revenue_2 > 3].count())\n",
    "z_score_revenue_2 = pd.DataFrame(z_score_revenue_2)\n",
    "print(z_score_revenue_2.describe())\n",
    "\n"
   ]
  },
  {
   "cell_type": "code",
   "execution_count": 31,
   "metadata": {},
   "outputs": [
    {
     "data": {
      "text/plain": [
       "masked_array(data=[  25087.,   77103., -143501., ...,   25013.,  -90069.,\n",
       "                     10440.],\n",
       "             mask=False,\n",
       "       fill_value=1e+20)"
      ]
     },
     "execution_count": 31,
     "metadata": {},
     "output_type": "execute_result"
    }
   ],
   "source": [
    "# eliminating the outliers in TOTAL_REVENUE_2\n",
    "from scipy.stats.mstats import winsorize\n",
    "winsorize_revenue_2 = winsorize(np.array(df['TOTAL_REVENUE_2'].dropna()), limits=[0.05, 0.095])\n",
    "winsorize_revenue_2\n"
   ]
  },
  {
   "cell_type": "code",
   "execution_count": 39,
   "metadata": {},
   "outputs": [
    {
     "name": "stdout",
     "output_type": "stream",
     "text": [
      "0\n"
     ]
    }
   ],
   "source": [
    "#  z-score of winsorized TOTAL_REVENUE_2\n",
    "z_score_revenue_2 = (winsorize_revenue_2 - winsorize_revenue_2.mean()) / winsorize_revenue_2.std()\n",
    "print(z_score_revenue_2[z_score_revenue_2 > 3].count())\n",
    "\n",
    "\n",
    "\n"
   ]
  },
  {
   "cell_type": "code",
   "execution_count": 40,
   "metadata": {},
   "outputs": [
    {
     "data": {
      "text/html": [
       "<div>\n",
       "<style scoped>\n",
       "    .dataframe tbody tr th:only-of-type {\n",
       "        vertical-align: middle;\n",
       "    }\n",
       "\n",
       "    .dataframe tbody tr th {\n",
       "        vertical-align: top;\n",
       "    }\n",
       "\n",
       "    .dataframe thead th {\n",
       "        text-align: right;\n",
       "    }\n",
       "</style>\n",
       "<table border=\"1\" class=\"dataframe\">\n",
       "  <thead>\n",
       "    <tr style=\"text-align: right;\">\n",
       "      <th></th>\n",
       "      <th>0</th>\n",
       "    </tr>\n",
       "  </thead>\n",
       "  <tbody>\n",
       "    <tr>\n",
       "      <th>count</th>\n",
       "      <td>1275.000000</td>\n",
       "    </tr>\n",
       "    <tr>\n",
       "      <th>mean</th>\n",
       "      <td>-92209.681569</td>\n",
       "    </tr>\n",
       "    <tr>\n",
       "      <th>std</th>\n",
       "      <td>284737.986283</td>\n",
       "    </tr>\n",
       "    <tr>\n",
       "      <th>min</th>\n",
       "      <td>-913765.000000</td>\n",
       "    </tr>\n",
       "    <tr>\n",
       "      <th>25%</th>\n",
       "      <td>-181308.000000</td>\n",
       "    </tr>\n",
       "    <tr>\n",
       "      <th>50%</th>\n",
       "      <td>-21368.000000</td>\n",
       "    </tr>\n",
       "    <tr>\n",
       "      <th>75%</th>\n",
       "      <td>51627.000000</td>\n",
       "    </tr>\n",
       "    <tr>\n",
       "      <th>max</th>\n",
       "      <td>272099.000000</td>\n",
       "    </tr>\n",
       "  </tbody>\n",
       "</table>\n",
       "</div>"
      ],
      "text/plain": [
       "                   0\n",
       "count    1275.000000\n",
       "mean   -92209.681569\n",
       "std    284737.986283\n",
       "min   -913765.000000\n",
       "25%   -181308.000000\n",
       "50%    -21368.000000\n",
       "75%     51627.000000\n",
       "max    272099.000000"
      ]
     },
     "execution_count": 40,
     "metadata": {},
     "output_type": "execute_result"
    }
   ],
   "source": [
    "winsorize_revenue_2 = pd.DataFrame(winsorize_revenue_2)\n",
    "# describe the winsorized TOTAL_REVENUE_2\n",
    "winsorize_revenue_2.describe()"
   ]
  },
  {
   "cell_type": "code",
   "execution_count": null,
   "metadata": {},
   "outputs": [],
   "source": []
  }
 ],
 "metadata": {
  "kernelspec": {
   "display_name": "Python 3.10.4 64-bit",
   "language": "python",
   "name": "python3"
  },
  "language_info": {
   "codemirror_mode": {
    "name": "ipython",
    "version": 3
   },
   "file_extension": ".py",
   "mimetype": "text/x-python",
   "name": "python",
   "nbconvert_exporter": "python",
   "pygments_lexer": "ipython3",
   "version": "3.10.4"
  },
  "orig_nbformat": 4,
  "vscode": {
   "interpreter": {
    "hash": "aee8b7b246df8f9039afb4144a1f6fd8d2ca17a180786b69acc140d282b71a49"
   }
  }
 },
 "nbformat": 4,
 "nbformat_minor": 2
}
