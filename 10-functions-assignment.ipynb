{
 "cells": [
  {
   "cell_type": "markdown",
   "metadata": {},
   "source": [
    "1."
   ]
  },
  {
   "cell_type": "code",
   "execution_count": 11,
   "metadata": {},
   "outputs": [
    {
     "name": "stdout",
     "output_type": "stream",
     "text": [
      "True\n"
     ]
    }
   ],
   "source": [
    "num = int(input(\"Enter a number: \"))\n",
    "def prime(num):\n",
    "    if (num == 1):\n",
    "        return False\n",
    "    elif (num == 2):\n",
    "        return True\n",
    "    else:\n",
    "        for i in range(2, num):\n",
    "            if (num % i == 0):\n",
    "                return False\n",
    "        return True\n",
    "print(prime(num))\n",
    "    "
   ]
  },
  {
   "cell_type": "markdown",
   "metadata": {},
   "source": [
    "2."
   ]
  },
  {
   "cell_type": "code",
   "execution_count": 13,
   "metadata": {},
   "outputs": [
    {
     "name": "stdout",
     "output_type": "stream",
     "text": [
      "20.1\n"
     ]
    }
   ],
   "source": [
    "def celsius_to_romer(celsius):\n",
    "    romer = celsius * 0.525 + 7.5\n",
    "    return romer\n",
    "print(celsius_to_romer(24))"
   ]
  },
  {
   "cell_type": "markdown",
   "metadata": {},
   "source": [
    "3."
   ]
  },
  {
   "cell_type": "code",
   "execution_count": 32,
   "metadata": {},
   "outputs": [
    {
     "name": "stdout",
     "output_type": "stream",
     "text": [
      "False\n"
     ]
    }
   ],
   "source": [
    "arg1 = int((input(\"Enter a length 1: \")))\n",
    "arg2 = int((input(\"Enter a length 2: \")))\n",
    "def is_divisible(x, y):\n",
    "    calc = x % y == 0\n",
    "    return calc\n",
    "        \n",
    "print(is_divisible(arg1, arg2))"
   ]
  },
  {
   "cell_type": "markdown",
   "metadata": {},
   "source": [
    "4."
   ]
  },
  {
   "cell_type": "code",
   "execution_count": 21,
   "metadata": {},
   "outputs": [
    {
     "name": "stdout",
     "output_type": "stream",
     "text": [
      "0.6\n"
     ]
    }
   ],
   "source": [
    "def guess_blue(blue_marbles_start, red_marbles_start, blue_marbles_pulled, red_marbles_pulled):\n",
    "    blue_left = blue_marbles_start - blue_marbles_pulled\n",
    "    red_left = red_marbles_start - red_marbles_pulled\n",
    "    total_left = blue_left + red_left\n",
    "    probability = blue_left / total_left\n",
    "    return probability\n",
    "print(guess_blue(5, 5, 2, 3))\n"
   ]
  },
  {
   "cell_type": "markdown",
   "metadata": {},
   "source": [
    "5."
   ]
  },
  {
   "cell_type": "code",
   "execution_count": 52,
   "metadata": {},
   "outputs": [
    {
     "name": "stdout",
     "output_type": "stream",
     "text": [
      "You can fill your order.\n"
     ]
    }
   ],
   "source": [
    "# dictionary assignment similar question?\n",
    "# stock = {'earbuds': 20, 'microphones': 72, 'speakers': 14, 'headsets': 59, 'webcams': 37}\n",
    "\n",
    "# def fillable(f_stock, f_merch, f_n):\n",
    "#     if f_stock[f_merch] >= f_n:\n",
    "#         return True\n",
    "#     else:\n",
    "#         return False\n",
    "\n",
    "# checkitem = input('Enter item to check: ')\n",
    "# checknum = int(input('Enter number of items: '))\n",
    "# avail_stock = fillable(stock, checkitem, checknum)\n",
    "# if avail_stock == True:\n",
    "#     print('You can fill your order.')\n",
    "# else:\n",
    "#     print('Sorry, we are out of stock. Your order cannot be filled for {} {}.'.format(checknum, checkitem))\n",
    "\n",
    "stock = {'earbuds': 20, 'microphones': 72, 'speakers': 14, 'headsets': 59, 'webcams': 37}\n",
    "merch = 'earbuds'\n",
    "n = 20\n",
    "\n",
    "def fillable(stock, merch, n):\n",
    "    if stock[merch] >= n:\n",
    "        return True\n",
    "    else:\n",
    "        return False\n",
    "\n",
    "avail_stock = fillable(stock, merch, n)\n",
    "if avail_stock == True:\n",
    "    print('You can fill your order.')\n",
    "else:\n",
    "    print('Sorry, we are out of stock. Your order cannot be filled for {} {}.'.format(n, merch))\n"
   ]
  },
  {
   "cell_type": "markdown",
   "metadata": {},
   "source": [
    "6."
   ]
  },
  {
   "cell_type": "code",
   "execution_count": 51,
   "metadata": {},
   "outputs": [
    {
     "name": "stdout",
     "output_type": "stream",
     "text": [
      "You should take an umbrella!\n"
     ]
    }
   ],
   "source": [
    "def take_umbrella(weather, chance_of_rain):\n",
    "    if weather == 'rainy' and chance_of_rain > 0.5:\n",
    "        return True\n",
    "    else:\n",
    "        return False\n",
    "\n",
    "if take_umbrella('rainy', 0.6): \n",
    "    print('You should take an umbrella!')\n",
    "else:\n",
    "    print('You should not take an umbrella.')\n",
    "    "
   ]
  },
  {
   "cell_type": "code",
   "execution_count": null,
   "metadata": {},
   "outputs": [],
   "source": []
  }
 ],
 "metadata": {
  "kernelspec": {
   "display_name": "Python 3.10.4 64-bit",
   "language": "python",
   "name": "python3"
  },
  "language_info": {
   "codemirror_mode": {
    "name": "ipython",
    "version": 3
   },
   "file_extension": ".py",
   "mimetype": "text/x-python",
   "name": "python",
   "nbconvert_exporter": "python",
   "pygments_lexer": "ipython3",
   "version": "3.10.4"
  },
  "orig_nbformat": 4,
  "vscode": {
   "interpreter": {
    "hash": "aee8b7b246df8f9039afb4144a1f6fd8d2ca17a180786b69acc140d282b71a49"
   }
  }
 },
 "nbformat": 4,
 "nbformat_minor": 2
}
